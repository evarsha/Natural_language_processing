{
 "cells": [
  {
   "cell_type": "markdown",
   "metadata": {},
   "source": [
    "Before you turn this problem in, make sure everything runs as expected. First, **restart the kernel** (in the menubar, select Kernel$\\rightarrow$Restart) and then **run all cells** (in the menubar, select Cell$\\rightarrow$Run All).\n",
    "\n",
    "Make sure you fill in any place that says `YOUR CODE HERE` or \"YOUR ANSWER HERE\", as well as your name and collaborators below:"
   ]
  },
  {
   "cell_type": "code",
   "execution_count": null,
   "metadata": {},
   "outputs": [],
   "source": []
  },
  {
   "cell_type": "code",
   "execution_count": 1,
   "metadata": {},
   "outputs": [],
   "source": [
    "NAME = \"VARSHA ERANKI\""
   ]
  },
  {
   "cell_type": "markdown",
   "metadata": {},
   "source": [
    "---"
   ]
  },
  {
   "cell_type": "markdown",
   "metadata": {
    "deletable": false,
    "editable": false,
    "nbgrader": {
     "cell_type": "markdown",
     "checksum": "096ff20b5a0850c107755f2979ee0f40",
     "grade": false,
     "grade_id": "cell-8e3497e0ea687ac1",
     "locked": true,
     "schema_version": 3,
     "solution": false
    }
   },
   "source": [
    "# Homework 2 (UMD, CL1, Fall 2019)\n",
    "\n",
    "This programming assigning is to familiarize you with:\n",
    "\n",
    "- Co-occurance-based semantics\n",
    "- Word embeddings and dimensionality reduction\n",
    "- Linear classification\n",
    "- Deep learning models with embedding inputs\n",
    "\n",
    "The document is rather long; we encourage you to take one part at a time, rather than trying to do it all at once. If you run into any issues, please reach out to teaching staff. Please remember that homework assignments (including the programming aspects) are to be completed individually; refer to [Class Policies](https://github.com/hal3/cl1f19umd#class-policies) for more details.\n",
    "\n",
    "Credits: Some of this assignment is based on a [similar homework assignment]() at Stanford; many thanks to them for making this available!!!"
   ]
  },
  {
   "cell_type": "markdown",
   "metadata": {},
   "source": [
    "# Word Vectors\n",
    "\n",
    "Word Vectors are often used as a fundamental component for downstream NLP tasks, e.g. question answering, text generation, translation, etc., so it is important to build some intuitions as to their strengths and weaknesses. Here, you will explore two types of word vectors: those derived from co-occurrence matrices, and those derived via word2vec.\n",
    "\n",
    "**Assignment Notes:** Please make sure to save the notebook as you go along.\n",
    "\n",
    "**Note on Terminology:** The terms \"word vectors\" and \"word embeddings\" are often used interchangeably. The term \"embedding\" refers to the fact that we are encoding aspects of a word's meaning in a lower dimensional space. As [Wikipedia] states, \"conceptually it involves a mathematical embedding from a space with one dimension per word to a continuous vector space with a much lower dimension\".\n",
    "\n",
    "[Wikipedia]: https://en.wikipedia.org/wiki/Word_embedding"
   ]
  },
  {
   "cell_type": "markdown",
   "metadata": {
    "jupyter": {
     "outputs_hidden": true
    }
   },
   "source": [
    "# Part 1: Count-Based Word Vectors (10 points)"
   ]
  },
  {
   "cell_type": "markdown",
   "metadata": {},
   "source": [
    "Most word vector models start from the following idea:\n",
    "\n",
    "You shall know a word by the company it keeps ([Firth, J. R. 1957:11])\n",
    "\n",
    "Many word vector implementations are driven by the idea that similar words, i.e., (near) synonyms, will be used in similar contexts. As a result, similar words will often be spoken or written along with a shared subset of words, i.e., contexts. By examining these contexts, we can try to develop embeddings for our words. With this intuition in mind, many \"old school\" approaches to constructing word vectors relied on word counts. Here we elaborate upon one of those strategies, co-occurrence matrices (for more information, see [here1] or [here2]).\n",
    "\n",
    "[Firth, J. R. 1957:11]:https://en.wikipedia.org/wiki/John_Rupert_Firth\n",
    "[here1]:http://web.stanford.edu/class/cs124/lec/vectorsemantics.video.pdf\n",
    "[here2]:https://medium.com/data-science-group-iitr/word-embedding-2d05d270b285"
   ]
  },
  {
   "cell_type": "markdown",
   "metadata": {},
   "source": [
    "# Co-Occurrence"
   ]
  },
  {
   "cell_type": "markdown",
   "metadata": {},
   "source": [
    "A co-occurrence matrix counts how often things co-occur in some environment. Given some word  $w_i$ occurring in the document, we consider the context window surrounding  $w_i$. Supposing our fixed window size is  $n$, then this is the  n preceding and  n subsequent words in that document, i.e. words  $w_{i−n} \\dots w_{i−1}$ and  $w_{i+1} \\dots w_{i+n}$. We build a co-occurrence matrix  $M$, which is a symmetric word-by-word matrix in which  $M_{ij}$ is the number of times  $w_{j}$ appears inside  $w_{i}$'s window.\n",
    "\n",
    "Example: Co-Occurrence with Fixed Window of n=1:\n",
    "\n",
    "Document 1: \"all that glitters is not gold\"\n",
    "\n",
    "Document 2: \"all is well that ends well\""
   ]
  },
  {
   "cell_type": "markdown",
   "metadata": {},
   "source": [
    "<style type=\"text/css\">\n",
    ".tg  {border-collapse:collapse;border-spacing:0;}\n",
    ".tg td{font-family:Arial, sans-serif;font-size:14px;padding:10px 5px;border-style:solid;border-width:1px;overflow:hidden;word-break:normal;border-color:black;}\n",
    ".tg th{font-family:Arial, sans-serif;font-size:14px;font-weight:normal;padding:10px 5px;border-style:solid;border-width:1px;overflow:hidden;word-break:normal;border-color:black;}\n",
    ".tg .tg-0pky{border-color:inherit;text-align:left;vertical-align:top}\n",
    "</style>\n",
    "<style type=\"text/css\">\n",
    ".tg  {border-collapse:collapse;border-spacing:0;}\n",
    ".tg td{font-family:Arial, sans-serif;font-size:14px;padding:10px 5px;border-style:solid;border-width:1px;overflow:hidden;word-break:normal;border-color:black;}\n",
    ".tg th{font-family:Arial, sans-serif;font-size:14px;font-weight:normal;padding:10px 5px;border-style:solid;border-width:1px;overflow:hidden;word-break:normal;border-color:black;}\n",
    ".tg .tg-0pky{border-color:inherit;text-align:left;vertical-align:top}\n",
    "</style>\n",
    "<table>\n",
    "<thead><tr>\n",
    "<th>*</th>\n",
    "<th>START</th>\n",
    "<th>all</th>\n",
    "<th>that</th>\n",
    "<th>glitters</th>\n",
    "<th>is</th>\n",
    "<th>not</th>\n",
    "<th>gold</th>\n",
    "<th>well</th>\n",
    "<th>ends</th>\n",
    "<th>END</th>\n",
    "</tr>\n",
    "</thead>\n",
    "<tbody>\n",
    "<tr>\n",
    "<td>START</td>\n",
    "<td>0</td>\n",
    "<td>2</td>\n",
    "<td>0</td>\n",
    "<td>0</td>\n",
    "<td>0</td>\n",
    "<td>0</td>\n",
    "<td>0</td>\n",
    "<td>0</td>\n",
    "<td>0</td>\n",
    "<td>0</td>\n",
    "</tr>\n",
    "<tr>\n",
    "<td>all</td>\n",
    "<td>2</td>\n",
    "<td>0</td>\n",
    "<td>1</td>\n",
    "<td>0</td>\n",
    "<td>1</td>\n",
    "<td>0</td>\n",
    "<td>0</td>\n",
    "<td>0</td>\n",
    "<td>0</td>\n",
    "<td>0</td>\n",
    "</tr>\n",
    "<tr>\n",
    "<td>that</td>\n",
    "<td>0</td>\n",
    "<td>1</td>\n",
    "<td>0</td>\n",
    "<td>1</td>\n",
    "<td>0</td>\n",
    "<td>0</td>\n",
    "<td>0</td>\n",
    "<td>1</td>\n",
    "<td>1</td>\n",
    "<td>0</td>\n",
    "</tr>\n",
    "<tr>\n",
    "<td>glitters</td>\n",
    "<td>0</td>\n",
    "<td>0</td>\n",
    "<td>1</td>\n",
    "<td>0</td>\n",
    "<td>1</td>\n",
    "<td>0</td>\n",
    "<td>0</td>\n",
    "<td>0</td>\n",
    "<td>0</td>\n",
    "<td>0</td>\n",
    "</tr>\n",
    "<tr>\n",
    "<td>is</td>\n",
    "<td>0</td>\n",
    "<td>1</td>\n",
    "<td>0</td>\n",
    "<td>1</td>\n",
    "<td>0</td>\n",
    "<td>1</td>\n",
    "<td>0</td>\n",
    "<td>1</td>\n",
    "<td>0</td>\n",
    "<td>0</td>\n",
    "</tr>\n",
    "<tr>\n",
    "<td>not</td>\n",
    "<td>0</td>\n",
    "<td>0</td>\n",
    "<td>0</td>\n",
    "<td>0</td>\n",
    "<td>1</td>\n",
    "<td>0</td>\n",
    "<td>1</td>\n",
    "<td>0</td>\n",
    "<td>0</td>\n",
    "<td>0</td>\n",
    "</tr>\n",
    "<tr>\n",
    "<td>gold</td>\n",
    "<td>0</td>\n",
    "<td>0</td>\n",
    "<td>0</td>\n",
    "<td>0</td>\n",
    "<td>0</td>\n",
    "<td>1</td>\n",
    "<td>0</td>\n",
    "<td>0</td>\n",
    "<td>0</td>\n",
    "<td>1</td>\n",
    "</tr>\n",
    "<tr>\n",
    "<td>well</td>\n",
    "<td>0</td>\n",
    "<td>0</td>\n",
    "<td>1</td>\n",
    "<td>0</td>\n",
    "<td>1</td>\n",
    "<td>0</td>\n",
    "<td>0</td>\n",
    "<td>0</td>\n",
    "<td>1</td>\n",
    "<td>1</td>\n",
    "</tr>\n",
    "<tr>\n",
    "<td>ends</td>\n",
    "<td>0</td>\n",
    "<td>0</td>\n",
    "<td>1</td>\n",
    "<td>0</td>\n",
    "<td>0</td>\n",
    "<td>0</td>\n",
    "<td>0</td>\n",
    "<td>1</td>\n",
    "<td>0</td>\n",
    "<td>0</td>\n",
    "</tr>\n",
    "<tr>\n",
    "<td>END</td>\n",
    "<td>0</td>\n",
    "<td>0</td>\n",
    "<td>0</td>\n",
    "<td>0</td>\n",
    "<td>0</td>\n",
    "<td>0</td>\n",
    "<td>1</td>\n",
    "<td>1</td>\n",
    "<td>0</td>\n",
    "<td>0</td>\n",
    "</tr>\n",
    "</tbody>\n",
    "</table>\n",
    "\n",
    "Note: In NLP, we often add START and END tokens to represent the beginning and end of sentences, paragraphs or documents. In thise case we imagine START and END tokens encapsulating each document, e.g., \"START All that glitters is not gold END\", and include these tokens in our co-occurrence counts.\n",
    "\n",
    "The rows (or columns) of this matrix provide one type of word vectors (those based on word-word co-occurrence), but the vectors will be large in general (linear in the number of distinct words in a corpus). Thus, our next step is to run dimensionality reduction. In particular, we will run SVD (Singular Value Decomposition), which is a kind of generalized PCA (Principal Components Analysis) to select the top  $k$ principal components. Here's a visualization of dimensionality reduction with SVD. In this picture our co-occurrence matrix is  $A$ with  $n$ rows corresponding to $n$ words. We obtain a full matrix decomposition, with the singular values ordered in the diagonal  $S$ matrix, and our new, shorter length-$k$ word vectors in  $U_k$.\n",
    "\n",
    "\n",
    "This reduced-dimensionality co-occurrence representation preserves semantic relationships between words, e.g. doctor and hospital will be closer than doctor and dog.\n",
    "\n",
    "Notes: If you can barely remember what an eigenvalue is, here's [a slow, friendly introduction to SVD]. If you want to learn more thoroughly about PCA or SVD, feel free to check out lectures [7], [8], and [9] of CS168. These course notes provide a great high-level treatment of these general purpose algorithms. Though, for the purpose of this class, you only need to know how to extract the k-dimensional embeddings by utilizing pre-programmed implementations of these algorithms from the numpy, scipy, or sklearn python packages. In practice, it is challenging to apply full SVD to large corpora because of the memory needed to perform PCA or SVD. However, if you only want the top  $k$ vector components for relatively small  $k$  — known as [Truncated SVD] — then there are reasonably scalable techniques to compute those iteratively.\n",
    "\n",
    "[Truncated SVD]: https://en.wikipedia.org/wiki/Singular_value_decomposition#Truncated_SVD\n",
    "[a slow, friendly introduction to SVD]: https://davetang.org/file/Singular_Value_Decomposition_Tutorial.pdf\n",
    "[7]:https://web.stanford.edu/class/cs168/l/l7.pdf\n",
    "[8]:http://theory.stanford.edu/~tim/s15/l/l8.pdf\n",
    "[9]:https://web.stanford.edu/class/cs168/l/l9.pdf"
   ]
  },
  {
   "cell_type": "markdown",
   "metadata": {},
   "source": [
    "# Plotting Co-Occurrence Word Embeddings"
   ]
  },
  {
   "cell_type": "markdown",
   "metadata": {},
   "source": [
    "Here, we will be using the SemEval 2018 Task 2: Multilingual Emoji Prediction. If you haven't run the import cell at the top of this page, please run it now (click it and press SHIFT-RETURN). The corpus consists of 50,000 english tweets and 10,000 spanish tweets. These tweets span 20 categories and are split into train and test. For more details, please see https://www.aclweb.org/anthology/S18-1003. \n",
    "\n",
    "The data for the task consists of a list of tweets associated with a given emoji (i.e. label). The dataset includes tweets that contain one and only one emoji, of the 20 most frequent emojis. We provide a get_data function below that pulls all of the text from the tweets exclduing the emjoi."
   ]
  },
  {
   "cell_type": "markdown",
   "metadata": {},
   "source": [
    "Let's have a look what these documents are like…."
   ]
  },
  {
   "cell_type": "code",
   "execution_count": 2,
   "metadata": {},
   "outputs": [],
   "source": [
    "import sys\n",
    "import csv\n",
    "#import random\n",
    "from collections import Counter\n",
    "from collections import defaultdict\n",
    "\n",
    "us_emojis = {}\n",
    "es_emojis = {}\n",
    "f = open(\"mapping/us_mapping.txt\", encoding='utf-8')\n",
    "c = csv.reader(f)\n",
    "for i in c:\n",
    "    line = i[0].split('\\t')\n",
    "    us_emojis[int(line[0])] = line[1] \n",
    "f.close()\n",
    "f = open(\"mapping/es_mapping.txt\", encoding='utf-8')\n",
    "c = csv.reader(f)\n",
    "for i in c:\n",
    "    line = i[0].split('\\t')\n",
    "    es_emojis[int(line[0])] = line[1] \n",
    "f.close()  \n",
    "\n",
    "def readin(data, lan):\n",
    "    count = 0\n",
    "    f_txt = open(\"trial/\"+lan+\"_trial.text\", encoding='utf-8')\n",
    "    c_txt = csv.reader(f_txt)\n",
    "    f_label = open(\"trial/\"+lan+\"_trial.labels\", encoding='utf-8')\n",
    "    c_label = csv.reader(f_label)\n",
    "    for label, txt in zip(c_label,c_txt):\n",
    "        data[int(label[0])].append(''.join(txt))\n",
    "        count += 1\n",
    "    f_txt.close()\n",
    "    f_label.close()\n",
    "    f_txt = open(\"test/\"+lan+\"_test.text\", encoding='utf-8')\n",
    "    c_txt = csv.reader(f_txt)\n",
    "    f_label = open(\"test/\"+lan+\"_test.labels\", encoding='utf-8')\n",
    "    c_label = csv.reader(f_label)\n",
    "    for label, txt in zip(c_label,c_txt):\n",
    "        data[int(label[0])].append(''.join(txt))\n",
    "        count += 1\n",
    "    f_txt.close()\n",
    "    f_label.close()\n",
    "    return count\n",
    "\n",
    "def process(data, count, TRAIN, DEV, TEST):\n",
    "    train, dev, test = [],[],[]\n",
    "    # count distribution\n",
    "    dist = {}\n",
    "    for l in data:\n",
    "        dist[l] = round(len(data[l])/count,2)\n",
    "        dist[l] = 0.05\n",
    "    # extract train dev test\n",
    "    for label in data:\n",
    "        num = 0\n",
    "        \n",
    "        #data[label].sort()\n",
    "        \n",
    "        add = int(dist[label]*TRAIN)\n",
    "        for i in range(num, num+add):\n",
    "            train.append((data[label][i].lower().split(' '), label))\n",
    "        num += add\n",
    "        add = int(dist[label]*DEV)\n",
    "        for i in range(num, num+add):\n",
    "            dev.append((data[label][i].lower().split(' '), label))\n",
    "        num += add\n",
    "        add = int(dist[label]*TEST)\n",
    "        for i in range(num, num+add):\n",
    "            test.append((data[label][i].lower().split(' '), label))\n",
    "    return train, dev, test\n",
    "\n",
    "def get_data():\n",
    "    WANT = 5000\n",
    "    TRAIN = WANT*0.8\n",
    "    DEV = WANT*0.1\n",
    "    TEST = WANT*0.1\n",
    "    us_data = defaultdict(list)\n",
    "    us_count = readin(us_data, 'us')\n",
    "    us_train, us_dev, us_test = process(us_data, us_count, TRAIN, DEV, TEST)\n",
    "    \n",
    "    WANT = 1000\n",
    "    TRAIN = WANT*0.8\n",
    "    DEV = WANT*0.1\n",
    "    TEST = WANT*0.1\n",
    "    es_data = defaultdict(list)\n",
    "    es_count = readin(es_data, 'es')\n",
    "    es_train, es_dev, es_test = process(es_data, es_count, TRAIN, DEV, TEST)\n",
    "    corpus = us_train + us_dev + us_test\n",
    "    corpus = [tweet[0] for tweet in corpus]\n",
    "    return corpus"
   ]
  },
  {
   "cell_type": "code",
   "execution_count": 3,
   "metadata": {},
   "outputs": [
    {
     "name": "stdout",
     "output_type": "stream",
     "text": [
      "[['a', 'little', 'throwback', 'with', 'my', 'favourite', 'person', '@', 'water', 'wall']]\n"
     ]
    }
   ],
   "source": [
    "import pprint\n",
    "corpus = get_data()\n",
    "pprint.pprint(corpus[:1], compact=True, width=100)"
   ]
  },
  {
   "cell_type": "markdown",
   "metadata": {},
   "source": [
    "**For the first record we see that the tweet is**"
   ]
  },
  {
   "cell_type": "code",
   "execution_count": 4,
   "metadata": {},
   "outputs": [
    {
     "name": "stdout",
     "output_type": "stream",
     "text": [
      "Tweet: ['a', 'little', 'throwback', 'with', 'my', 'favourite', 'person', '@', 'water', 'wall']\n"
     ]
    }
   ],
   "source": [
    "print(f'Tweet: {corpus[0]}')"
   ]
  },
  {
   "cell_type": "markdown",
   "metadata": {},
   "source": [
    "# Question 1.1: Implement distinct_words [code] (2 points)\n",
    "\n",
    "Write a method to work out the distinct words (for both **english only**) that occur in the corpus. You can do this with for loops, but it's more efficient to do it with Python list comprehensions. In particular, [this] may be useful to flatten a list of lists. If you're not familiar with Python list comprehensions in general, here's [more information].\n",
    "\n",
    "You may find it useful to use [Python sets] to remove duplicate words.\n",
    "\n",
    "[Python sets]:https://www.w3schools.com/python/python_sets.asp\n",
    "[more information]: https://python-3-patterns-idioms-test.readthedocs.io/en/latest/Comprehensions.html\n",
    "[this]: https://coderwall.com/p/rcmaea/flatten-a-list-of-lists-in-one-line-in-python"
   ]
  },
  {
   "cell_type": "code",
   "execution_count": 5,
   "metadata": {
    "deletable": false,
    "nbgrader": {
     "cell_type": "code",
     "checksum": "88c8c27999c80f2fe7f8844cd79bb6d8",
     "grade": false,
     "grade_id": "cell-456ecd4b140810ac",
     "locked": false,
     "schema_version": 3,
     "solution": true
    }
   },
   "outputs": [],
   "source": [
    "def distinct_words(corpus):\n",
    "    \"\"\" Determine a list of distinct words for the corpus.\n",
    "        Params:\n",
    "            corpus (list of list of strings): corpus of documents\n",
    "        Return:\n",
    "            corpus_words (list of strings): list of distinct words across the corpus, sorted (using python 'sorted' function)\n",
    "            num_corpus_words (integer): number of distinct words across the corpus\n",
    "    \"\"\"\n",
    "    corpus_words = []\n",
    "    num_corpus_words = -1\n",
    "    \n",
    "    # YOUR CODE HERE\n",
    "    \n",
    "    for i in corpus:\n",
    "        for j in i:\n",
    "            corpus_words.append(j)\n",
    "            \n",
    "    corpus_words = set(corpus_words)\n",
    "    \n",
    "    corpus_words = sorted(list(corpus_words))\n",
    "    \n",
    "    num_corpus_words = len(corpus_words)\n",
    "    \n",
    "    #raise NotImplementedError()\n",
    "\n",
    "    return corpus_words, num_corpus_words"
   ]
  },
  {
   "cell_type": "code",
   "execution_count": 6,
   "metadata": {
    "deletable": false,
    "editable": false,
    "nbgrader": {
     "cell_type": "code",
     "checksum": "f03697c8a9af76fb452f6105a8afd46a",
     "grade": true,
     "grade_id": "cell-7fb0f2c0487d8aa3",
     "locked": true,
     "points": 1,
     "schema_version": 3,
     "solution": false
    }
   },
   "outputs": [
    {
     "name": "stdout",
     "output_type": "stream",
     "text": [
      "--------------------------------------------------------------------------------\n",
      "Passed All Tests!\n",
      "--------------------------------------------------------------------------------\n"
     ]
    }
   ],
   "source": [
    "# ---------------------\n",
    "# Run this sanity check\n",
    "# Note that this not an exhaustive check for correctness.\n",
    "# ---------------------\n",
    "\n",
    "from unittest import TestCase\n",
    "test_case = TestCase()\n",
    "\n",
    "# Define toy corpus\n",
    "corpus = [['@', 'blessed', 'trendz'],\n",
    "          ['always', 'a', 'good', 'time', 'with', 'these', 'friends'],\n",
    "          ['#summer', '#2k17', 'single', 'released']]\n",
    "\n",
    "        \n",
    "test_corpus_words, num_corpus_words = distinct_words(corpus)\n",
    "\n",
    "# Correct answers\n",
    "ans_test_corpus_words = sorted(list(set(['#2k17','#summer', '@','a','always','blessed','friends','good','released','single','these','time','trendz','with'])))\n",
    "ans_num_corpus_words = len(ans_test_corpus_words)\n",
    "\n",
    "# Test correct number of words\n",
    "test_case.assertEqual(num_corpus_words,ans_num_corpus_words, \"Incorrect number of distinct words. Correct: {}. Yours: {}\".format(ans_num_corpus_words, num_corpus_words))\n",
    "\n",
    "# Test correct words\n",
    "test_case.assertListEqual(test_corpus_words, ans_test_corpus_words, \"Incorrect corpus_words.\\nCorrect: {}\\nYours:   {}\".format(str(ans_test_corpus_words), str(test_corpus_words)))\n",
    "\n",
    "# Print Success\n",
    "print (\"-\" * 80)\n",
    "print(\"Passed All Tests!\")\n",
    "print (\"-\" * 80)"
   ]
  },
  {
   "cell_type": "code",
   "execution_count": 7,
   "metadata": {
    "deletable": false,
    "editable": false,
    "nbgrader": {
     "cell_type": "code",
     "checksum": "084364f0e8bc611241ebfacc1d4408f5",
     "grade": true,
     "grade_id": "cell-c6bbfc5d5ac4eec8",
     "locked": true,
     "points": 1,
     "schema_version": 3,
     "solution": false
    }
   },
   "outputs": [],
   "source": [
    "# More hidden test cases are included in this cell\n"
   ]
  },
  {
   "cell_type": "markdown",
   "metadata": {},
   "source": [
    "# Question 1.2: Implement compute_co_occurrence_matrix [code] (3 points)\n",
    "\n",
    "Write a method that constructs a co-occurrence matrix for a certain window-size  $n$ (with a default of 8), considering words  $n$ before and $n$ after the word in the center of the window. Here, we start to use numpy (np) to represent vectors, matrices, and tensors. If you're not familiar with NumPy, there's a NumPy tutorial in the second half of this cs231n [Python NumPy tutorial].\n",
    "\n",
    "[Python NumPy tutorial]: http://cs231n.github.io/python-numpy-tutorial/"
   ]
  },
  {
   "cell_type": "code",
   "execution_count": 8,
   "metadata": {
    "deletable": false,
    "nbgrader": {
     "cell_type": "code",
     "checksum": "da494515d727401aab25fbda92aca6a4",
     "grade": false,
     "grade_id": "cell-b6133987624c21c6",
     "locked": false,
     "schema_version": 3,
     "solution": true
    }
   },
   "outputs": [],
   "source": [
    "import numpy as np\n",
    "\n",
    "def compute_co_occurrence_matrix(corpus, window_size=8):\n",
    "    \"\"\" Compute co-occurrence matrix for the given corpus and window_size (default of 8).\n",
    "    \n",
    "        Note: Each word in a document should be at the center of a window. Words near edges will have a smaller\n",
    "              number of co-occurring words.\n",
    "              \n",
    "              For example, if we take the document \"START All that glitters is not gold END\" with window size of 4,\n",
    "              \"All\" will co-occur with \"START\", \"that\", \"glitters\", \"is\", and \"not\".\n",
    "    \n",
    "        Params:\n",
    "            corpus (list of list of strings): corpus of documents\n",
    "            window_size (int): size of context window\n",
    "        Return:\n",
    "            M (numpy matrix of shape (number of corpus words, number of corpus words)): \n",
    "                Co-occurence matrix of word counts. \n",
    "                The ordering of the words in the rows/columns should be the same as the ordering of the words given by the distinct_words function.\n",
    "            word2Ind (dict): dictionary that maps word to index (i.e. row/column number) for matrix M.\n",
    "    \"\"\"    \n",
    "    words, num_words = distinct_words(corpus)\n",
    "    M = None\n",
    "    word2Ind = {}\n",
    "    \n",
    "    # YOUR CODE HERE\n",
    "    \n",
    "    indexes = [x for x in range(0,len(words))]\n",
    "    word2Ind = dict(zip(words,indexes))\n",
    "    \n",
    "    M = np.zeros((num_words,num_words))\n",
    "    \n",
    "    for text in corpus:\n",
    "        len_txt = len(text)\n",
    "        \n",
    "        for j in range(0,len_txt):\n",
    "            mid_index = word2Ind[text[j]]\n",
    "            \n",
    "            for k in range(j-window_size,j+window_size+1):\n",
    "                \n",
    "                if k>=0 and k<len_txt and k!=j:\n",
    "                        last_index = word2Ind[text[k]]\n",
    "                        M[mid_index,last_index] += 1.0\n",
    "    \n",
    "    \n",
    "    #raise NotImplementedError()\n",
    "\n",
    "    return M, word2Ind"
   ]
  },
  {
   "cell_type": "code",
   "execution_count": 9,
   "metadata": {
    "deletable": false,
    "editable": false,
    "nbgrader": {
     "cell_type": "code",
     "checksum": "8ee1cfc83718acb5db7b4d18aadec1a2",
     "grade": true,
     "grade_id": "cell-2586128c84429a7e",
     "locked": true,
     "points": 2,
     "schema_version": 3,
     "solution": false
    }
   },
   "outputs": [
    {
     "name": "stdout",
     "output_type": "stream",
     "text": [
      "--------------------------------------------------------------------------------\n",
      "Passed All Tests!\n",
      "--------------------------------------------------------------------------------\n"
     ]
    }
   ],
   "source": [
    "# ---------------------\n",
    "# Run this sanity check\n",
    "# Note that this is not an\n",
    "# ---------------------\n",
    "\n",
    "from unittest import TestCase\n",
    "test_case = TestCase()\n",
    "\n",
    "# Define toy corpus and get student's co-occurrence matrix\n",
    "#test_corpus = [\"START All that glitters isn't gold END\".split(\" \"), \"START All's well that ends well END\".split(\" \")]\n",
    "corpus = [['@', 'blessed', 'trendz'],\n",
    "          ['always', 'a', 'good', 'time', 'with', 'these', 'friends'],\n",
    "          ['#summer', '#2k17', 'single', 'released']]\n",
    "\n",
    "M_test, word2Ind_test = compute_co_occurrence_matrix(corpus, window_size=1)\n",
    "\n",
    "# Correct M and word2Ind\n",
    "M_test_ans = np.array(\n",
    "      [[0., 1., 0., 0., 0., 0., 0., 0., 0., 1., 0., 0., 0., 0.],\n",
    "       [1., 0., 0., 0., 0., 0., 0., 0., 0., 0., 0., 0., 0., 0.],\n",
    "       [0., 0., 0., 0., 0., 1., 0., 0., 0., 0., 0., 0., 0., 0.],\n",
    "       [0., 0., 0., 0., 1., 0., 0., 1., 0., 0., 0., 0., 0., 0.],\n",
    "       [0., 0., 0., 1., 0., 0., 0., 0., 0., 0., 0., 0., 0., 0.],\n",
    "       [0., 0., 1., 0., 0., 0., 0., 0., 0., 0., 0., 0., 1., 0.],\n",
    "       [0., 0., 0., 0., 0., 0., 0., 0., 0., 0., 1., 0., 0., 0.],\n",
    "       [0., 0., 0., 1., 0., 0., 0., 0., 0., 0., 0., 1., 0., 0.],\n",
    "       [0., 0., 0., 0., 0., 0., 0., 0., 0., 1., 0., 0., 0., 0.],\n",
    "       [1., 0., 0., 0., 0., 0., 0., 0., 1., 0., 0., 0., 0., 0.],\n",
    "       [0., 0., 0., 0., 0., 0., 1., 0., 0., 0., 0., 0., 0., 1.],\n",
    "       [0., 0., 0., 0., 0., 0., 0., 1., 0., 0., 0., 0., 0., 1.],\n",
    "       [0., 0., 0., 0., 0., 1., 0., 0., 0., 0., 0., 0., 0., 0.],\n",
    "       [0., 0., 0., 0., 0., 0., 0., 0., 0., 0., 1., 1., 0., 0.]])\n",
    "\n",
    "word2Ind_ans = {'#2k17': 0, '#summer': 1, '@': 2, 'a': 3, 'always': 4, 'blessed': 5, 'friends': 6, 'good': 7, 'released': 8, 'single': 9, 'these': 10, 'time': 11, 'trendz': 12, 'with': 13}\n",
    "\n",
    "# Test correct word2Ind\n",
    "test_case.assertTrue((word2Ind_ans == word2Ind_test), \"Your word2Ind is incorrect:\\nCorrect: {}\\nYours: {}\".format(word2Ind_ans, word2Ind_test))\n",
    "\n",
    "# Test correct M shape\n",
    "test_case.assertTrue((M_test.shape == M_test_ans.shape), \"M matrix has incorrect shape.\\nCorrect: {}\\nYours: {}\".format(M_test.shape, M_test_ans.shape))\n",
    "\n",
    "# Test correct M values\n",
    "for w1 in word2Ind_ans.keys():\n",
    "    idx1 = word2Ind_ans[w1]\n",
    "    for w2 in word2Ind_ans.keys():\n",
    "        idx2 = word2Ind_ans[w2]\n",
    "        student = M_test[idx1, idx2]\n",
    "        correct = M_test_ans[idx1, idx2]\n",
    "        if student != correct:\n",
    "            print(\"Correct M:\")\n",
    "            print(M_test_ans)\n",
    "            print(\"Your M: \")\n",
    "            print(M_test)\n",
    "            raise AssertionError(\"Incorrect count at index ({}, {})=({}, {}) in matrix M. Yours has {} but should have {}.\".format(idx1, idx2, w1, w2, student, correct))\n",
    "            \n",
    "# Print Success\n",
    "print (\"-\" * 80)\n",
    "print(\"Passed All Tests!\")\n",
    "print (\"-\" * 80)"
   ]
  },
  {
   "cell_type": "code",
   "execution_count": 10,
   "metadata": {
    "deletable": false,
    "editable": false,
    "nbgrader": {
     "cell_type": "code",
     "checksum": "9f329bf34de7301a407d4af4ff4bdc7f",
     "grade": true,
     "grade_id": "cell-db9a27e1e62a0725",
     "locked": true,
     "points": 1,
     "schema_version": 3,
     "solution": false
    }
   },
   "outputs": [],
   "source": [
    "# More hidden test cases are included in this cell\n"
   ]
  },
  {
   "cell_type": "markdown",
   "metadata": {},
   "source": [
    "# Question 1.3: Implement reduce_to_k_dim [code] (1 point)\n",
    "\n",
    "Construct a method that performs dimensionality reduction on the matrix to produce k-dimensional embeddings. Use SVD to take the top k components and produce a new matrix of k-dimensional embeddings.\n",
    "\n",
    "**Note**: All of numpy, scipy, and scikit-learn (sklearn) provide some implementation of SVD, but only scipy and sklearn provide an implementation of Truncated SVD, and only sklearn provides an efficient randomized algorithm for calculating large-scale Truncated SVD. So please use [sklearn.decomposition.TruncatedSVD].\n",
    "\n",
    "[sklearn.decomposition.TruncatedSVD]: https://scikit-learn.org/stable/modules/generated/sklearn.decomposition.TruncatedSVD.html"
   ]
  },
  {
   "cell_type": "code",
   "execution_count": 11,
   "metadata": {
    "deletable": false,
    "nbgrader": {
     "cell_type": "code",
     "checksum": "489449f613311bd7e0f77b28a8146c4f",
     "grade": false,
     "grade_id": "cell-d74e25e11133ccd5",
     "locked": false,
     "schema_version": 3,
     "solution": true
    }
   },
   "outputs": [],
   "source": [
    "from sklearn.decomposition import TruncatedSVD\n",
    "\n",
    "def reduce_to_k_dim(M, k=2):\n",
    "    \"\"\" Reduce a co-occurence count matrix of dimensionality (num_corpus_words, num_corpus_words)\n",
    "        to a matrix of dimensionality (num_corpus_words, k) using the following SVD function from Scikit-Learn:\n",
    "            - http://scikit-learn.org/stable/modules/generated/sklearn.decomposition.TruncatedSVD.html\n",
    "    \n",
    "        Params:\n",
    "            M (numpy matrix of shape (number of corpus words, number of corpus words)): co-occurence matrix of word counts\n",
    "            k (int): embedding size of each word after dimension reduction\n",
    "        Return:\n",
    "            M_reduced (numpy matrix of shape (number of corpus words, k)): matrix of k-dimensioal word embeddings.\n",
    "                    In terms of the SVD from math class, this actually returns U * S\n",
    "    \"\"\"    \n",
    "    n_iters = 10     # Use this parameter in your call to `TruncatedSVD`\n",
    "    M_reduced = None\n",
    "    print(\"Running Truncated SVD over %i words...\" % (M.shape[0]))\n",
    "    \n",
    "    # YOUR CODE HERE\n",
    "    \n",
    "    svd = TruncatedSVD(n_components = k, n_iter = 10, random_state = 0)\n",
    "   \n",
    "    M_reduced = svd.fit_transform(M)\n",
    "   \n",
    "    #raise NotImplementedError()\n",
    "\n",
    "    print(\"Done.\")\n",
    "    return M_reduced"
   ]
  },
  {
   "cell_type": "code",
   "execution_count": 12,
   "metadata": {},
   "outputs": [
    {
     "name": "stdout",
     "output_type": "stream",
     "text": [
      "Running Truncated SVD over 14 words...\n",
      "Done.\n",
      "--------------------------------------------------------------------------------\n",
      "Passed All Tests!\n",
      "--------------------------------------------------------------------------------\n"
     ]
    }
   ],
   "source": [
    "# ---------------------\n",
    "# Run this sanity check\n",
    "# Note that this not an exhaustive check for correctness \n",
    "# In fact we only check that your M_reduced has the right dimensions.\n",
    "# ---------------------\n",
    "\n",
    "from unittest import TestCase\n",
    "test_case = TestCase()\n",
    "\n",
    "# Define toy corpus and run student code\n",
    "#test_corpus = [\"START All that glitters isn't gold END\".split(\" \"), \"START All's well that ends well END\".split(\" \")]\n",
    "corpus = [['@', 'blessed', 'trendz'],\n",
    "          ['always', 'a', 'good', 'time', 'with', 'these', 'friends'],\n",
    "          ['#summer', '#2k17', 'single', 'released']]\n",
    "\n",
    "M_test, word2Ind_test = compute_co_occurrence_matrix(corpus, window_size=1)\n",
    "M_test_reduced = reduce_to_k_dim(M_test, k=2)\n",
    "\n",
    "# Test proper dimensions\n",
    "test_case.assertTrue((M_test_reduced.shape[0] == 14), \"M_reduced has {} rows; should have {}\".format(M_test_reduced.shape[0], 14))\n",
    "test_case.assertTrue((M_test_reduced.shape[1] == 2), \"M_reduced has {} columns; should have {}\".format(M_test_reduced.shape[1], 2))\n",
    "\n",
    "# Print Success\n",
    "print (\"-\" * 80)\n",
    "print(\"Passed All Tests!\")\n",
    "print (\"-\" * 80)"
   ]
  },
  {
   "cell_type": "code",
   "execution_count": 13,
   "metadata": {
    "deletable": false,
    "editable": false,
    "nbgrader": {
     "cell_type": "code",
     "checksum": "e512c01a75d704de252a1668ad1393e9",
     "grade": true,
     "grade_id": "cell-65d47a0c59c72e87",
     "locked": true,
     "points": 1,
     "schema_version": 3,
     "solution": false
    }
   },
   "outputs": [],
   "source": [
    "# More hidden test cases are included in this cell\n"
   ]
  },
  {
   "cell_type": "markdown",
   "metadata": {},
   "source": [
    "# Question 1.4: Implement plot_embeddings [code] (1 point)\n",
    "\n",
    "Here you will write a function to plot a set of 2D vectors in 2D space. For graphs, we will use Matplotlib (plt).\n",
    "\n",
    "For this example, you may find it useful to adapt [this code]. In the future, a good way to make a plot is to look at the [Matplotlib gallery], find a plot that looks somewhat like what you want, and adapt the code they give.\n",
    "\n",
    "[this code]:https://www.pythonmembers.club/2018/05/08/matplotlib-scatter-plot-annotate-set-text-at-label-each-point/\n",
    "[Matplotlib gallery]: https://matplotlib.org/gallery/index.html\n"
   ]
  },
  {
   "cell_type": "code",
   "execution_count": 14,
   "metadata": {
    "deletable": false,
    "nbgrader": {
     "cell_type": "code",
     "checksum": "1f7d6be1f30fb40f5c68a9152a76885e",
     "grade": false,
     "grade_id": "cell-471aadfb3bfa0c2e",
     "locked": false,
     "schema_version": 3,
     "solution": true
    }
   },
   "outputs": [],
   "source": [
    "from matplotlib import pyplot as plt\n",
    "\n",
    "def plot_embeddings(M_reduced, word2Ind, words):\n",
    "    \"\"\" Plot in a scatterplot the embeddings of the words specified in the list \"words\".\n",
    "        NOTE: do not plot all the words listed in M_reduced / word2Ind.\n",
    "        Include a label next to each point.\n",
    "        \n",
    "        Params:\n",
    "            M_reduced (numpy matrix of shape (number of unique words in the corpus , k)): matrix of k-dimensioal word embeddings\n",
    "            word2Ind (dict): dictionary that maps word to indices for matrix M\n",
    "            words (list of strings): words whose embeddings we want to visualize\n",
    "    \"\"\"\n",
    "\n",
    "    # YOUR CODE HERE\n",
    "    \n",
    "    for i,type in enumerate(words):\n",
    "        x_coor,y_coor = M_reduced[word2Ind[type]][0],M_reduced[word2Ind[type]][1]\n",
    "        \n",
    "        plt.scatter(x_coor, y_coor, marker='*', color='red')\n",
    "        plt.text(x_coor+0.05, y_coor+0.05, type, fontsize=12)\n",
    "   \n",
    "    plt.show()\n",
    "    \n",
    "    #raise NotImplementedError()"
   ]
  },
  {
   "cell_type": "code",
   "execution_count": 15,
   "metadata": {},
   "outputs": [
    {
     "name": "stdout",
     "output_type": "stream",
     "text": [
      "--------------------------------------------------------------------------------\n",
      "Outputted Plot:\n"
     ]
    },
    {
     "data": {
      "image/png": "[encoded data removed]",
      "text/plain": [
       "<Figure size 432x288 with 1 Axes>"
      ]
     },
     "metadata": {
      "needs_background": "light"
     },
     "output_type": "display_data"
    },
    {
     "name": "stdout",
     "output_type": "stream",
     "text": [
      "--------------------------------------------------------------------------------\n"
     ]
    }
   ],
   "source": [
    "# ---------------------\n",
    "# Run this sanity check\n",
    "# Note that this not an exhaustive check for correctness.\n",
    "# The plot produced should look like the \"test solution plot\" depicted below. \n",
    "# ---------------------\n",
    "\n",
    "print (\"-\" * 80)\n",
    "print (\"Outputted Plot:\")\n",
    "\n",
    "M_reduced_plot_test = np.array([[1, 1], [-1, -1], [1, -1], [-1, 1], [0, 0]])\n",
    "word2Ind_plot_test = {'test1': 0, 'test2': 1, 'test3': 2, 'test4': 3, 'test5': 4}\n",
    "words = ['test1', 'test2', 'test3', 'test4', 'test5']\n",
    "plot_embeddings(M_reduced_plot_test, word2Ind_plot_test, words)\n",
    "\n",
    "print (\"-\" * 80)"
   ]
  },
  {
   "cell_type": "code",
   "execution_count": null,
   "metadata": {
    "deletable": false,
    "editable": false,
    "nbgrader": {
     "cell_type": "code",
     "checksum": "b56458c2e7c7584415f9124d4cdb0f83",
     "grade": true,
     "grade_id": "cell-45c79186d4b229ac",
     "locked": true,
     "points": 1,
     "schema_version": 3,
     "solution": false,
     "task": false
    }
   },
   "outputs": [],
   "source": []
  },
  {
   "cell_type": "markdown",
   "metadata": {},
   "source": [
    "# Question 1.5: Co-Occurrence Plot Analysis [written] (3 points)\n",
    "\n",
    "Now we will put together all the parts you have written! We will compute the co-occurrence matrix with fixed window of 4, over the  SemEval 2018 Task 2: Multilingual Emoji corpus. Then we will use TruncatedSVD to compute 2-dimensional embeddings of each word. TruncatedSVD returns U*S, so we normalize the returned vectors, so that all the vectors will appear around the unit circle (therefore closeness is directional closeness). Note: The line of code below that does the normalizing uses the NumPy concept of broadcasting. If you don't know about broadcasting, check out [Computation on Arrays: Broadcasting by Jake VanderPlas].\n",
    "\n",
    "Run the below cell to produce the plot. It'll probably take a few seconds to run. What clusters together in 2-dimensional embedding space? What doesn't cluster together that you might think should have?\n",
    "\n",
    "[Computation on Arrays: Broadcasting by Jake VanderPlas]: https://jakevdp.github.io/PythonDataScienceHandbook/02.05-computation-on-arrays-broadcasting.html"
   ]
  },
  {
   "cell_type": "code",
   "execution_count": 16,
   "metadata": {},
   "outputs": [
    {
     "name": "stdout",
     "output_type": "stream",
     "text": [
      "15990\n",
      "Running Truncated SVD over 15990 words...\n",
      "Done.\n"
     ]
    },
    {
     "name": "stderr",
     "output_type": "stream",
     "text": [
      "C:\\Users\\evars\\Anaconda3\\lib\\site-packages\\ipykernel_launcher.py:11: RuntimeWarning: invalid value encountered in true_divide\n",
      "  # This is added back by InteractiveShellApp.init_path()\n"
     ]
    },
    {
     "data": {
      "image/png": "[encoded data removed]",
      "text/plain": [
       "<Figure size 432x288 with 1 Axes>"
      ]
     },
     "metadata": {
      "needs_background": "light"
     },
     "output_type": "display_data"
    }
   ],
   "source": [
    "# -----------------------------\n",
    "# Run This Cell to Produce Your Plot\n",
    "# ------------------------------\n",
    "corpus= get_data()\n",
    "M_co_occurrence, word2Ind_co_occurrence = compute_co_occurrence_matrix(corpus)\n",
    "print(len(word2Ind_co_occurrence.keys()))\n",
    "M_reduced_co_occurrence = reduce_to_k_dim(M_co_occurrence, k=2)\n",
    "\n",
    "# Rescale (normalize) the rows to make them each of unit-length\n",
    "M_lengths = np.linalg.norm(M_reduced_co_occurrence, axis=1)\n",
    "M_normalized = M_reduced_co_occurrence / M_lengths[:, np.newaxis] # broadcasting\n",
    "words = [\n",
    " 'softball',\n",
    " 'street',\n",
    " 'project',\n",
    " 'maps',\n",
    " 'view',\n",
    " 'summer',\n",
    " 'ball',\n",
    " 'steal',\n",
    " 'soccer',\n",
    " 'driving',\n",
    " 'motor',\n",
    " 'comedy'\n",
    "]\n",
    "plot_embeddings(M_normalized, word2Ind_co_occurrence, words)"
   ]
  },
  {
   "cell_type": "markdown",
   "metadata": {
    "deletable": false,
    "nbgrader": {
     "cell_type": "code",
     "checksum": "2a33c825272b59cdf23f28a3963b74e2",
     "grade": true,
     "grade_id": "cell-c558ce5cce699b7d",
     "locked": false,
     "points": 3,
     "schema_version": 3,
     "solution": true,
     "task": false
    }
   },
   "source": [
    "### YOUR CODE HERE: Answer\n",
    "\n",
    "In 2-dimensional embedding space, 'comedy', 'project' and street seem to cluster together.\n",
    "The ideal clustering in the above set would be if 'soccer' and 'softball' were together or close proximity as they are relatable. 'Motor' and 'driving' could have been in closer proximity too.\n",
    "\n",
    "\n",
    "#raise NotImplementedError()"
   ]
  },
  {
   "cell_type": "markdown",
   "metadata": {},
   "source": [
    "# Part 2: Prediction-Based Word Vectors (8 points)\n",
    "\n",
    "As discussed in class, more recently prediction-based word vectors have come into fashion, e.g. word2vec. Here, we shall explore the embeddings produced by word2vec. Please revisit the class notes and lecture slides for more details on the word2vec algorithm. If you're feeling adventurous, challenge yourself and try reading the [original paper].\n",
    "\n",
    "Then run the following cells to load the word2vec vectors into memory. **Note:** This might take several minutes.\n",
    "\n",
    "[original paper]: https://papers.nips.cc/paper/5021-distributed-representations-of-words-and-phrases-and-their-compositionality.pdf"
   ]
  },
  {
   "cell_type": "code",
   "execution_count": 17,
   "metadata": {},
   "outputs": [],
   "source": [
    "def load_word2vec():\n",
    "    \"\"\" Load Word2Vec Vectors\n",
    "        Return:\n",
    "            wv_from_bin: All 1.2 million embeddings, each lengh 25\n",
    "    \"\"\"\n",
    "    import gensim.downloader as api\n",
    "    wv_from_bin = api.load(\"glove-twitter-25\")\n",
    "    vocab = list(wv_from_bin.vocab.keys())\n",
    "    print(\"Loaded vocab size %i\" % len(vocab))\n",
    "    return wv_from_bin"
   ]
  },
  {
   "cell_type": "code",
   "execution_count": 18,
   "metadata": {},
   "outputs": [
    {
     "name": "stdout",
     "output_type": "stream",
     "text": [
      "--------------------------------------------------------------------------------\n",
      "Warning: Downloading word vectors will take a while\n",
      "--------------------------------------------------------------------------------\n",
      "Loaded vocab size 1193514\n",
      "--------------------------------------------------------------------------------\n",
      "Success!\n",
      "--------------------------------------------------------------------------------\n"
     ]
    }
   ],
   "source": [
    "# -----------------------------------\n",
    "# Run Cell to Load Word Vectors\n",
    "# Note: This may take several minutes\n",
    "# -----------------------------------\n",
    "print (\"-\" * 80)\n",
    "print(\"Warning: Downloading word vectors will take a while\")\n",
    "print (\"-\" * 80)\n",
    "\n",
    "wv_from_bin = load_word2vec()\n",
    "\n",
    "print (\"-\" * 80)\n",
    "print(\"Success!\")\n",
    "print (\"-\" * 80)"
   ]
  },
  {
   "cell_type": "markdown",
   "metadata": {},
   "source": [
    "**Note: If you are receiving out of memory issues on your local machine, try closing other applications to free more memory on your device. You may want to try restarting your machine so that you can free up extra memory. Then immediately run the jupyter notebook and see if you can load the word vectors properly.**"
   ]
  },
  {
   "cell_type": "markdown",
   "metadata": {},
   "source": [
    "# Reducing dimensionality of Word2Vec Word Embeddings\n",
    "\n",
    "Let's directly compare the word2vec embeddings to those of the co-occurrence matrix. Run the following cells to:\n",
    "\n",
    "1. Put the 3 million word2vec vectors into a matrix M\n",
    "2. Run reduce_to_k_dim (your Truncated SVD function) to reduce the vectors from 300-dimensional to 2-dimensional."
   ]
  },
  {
   "cell_type": "code",
   "execution_count": 19,
   "metadata": {},
   "outputs": [],
   "source": [
    "def get_matrix_of_vectors(wv_from_bin, required_words=['softball', 'technology','street','project','fellow','maps','view','fuel','summer','clubhouse','ball','steal','soccer','driving','motor','comedy']):\n",
    "    \"\"\" Put the word2vec vectors into a matrix M.\n",
    "        Param:\n",
    "            wv_from_bin: KeyedVectors object; the 3 million word2vec vectors loaded from file\n",
    "        Return:\n",
    "            M: numpy matrix shape (num words, 300) containing the vectors\n",
    "            word2Ind: dictionary mapping each word to its row number in M\n",
    "    \"\"\"\n",
    "    import random\n",
    "    words = list(wv_from_bin.vocab.keys())\n",
    "    print(\"Shuffling words ...\")\n",
    "    random.shuffle(words)\n",
    "    wrds = words[:10000]\n",
    "    print(\"Putting %i words into word2Ind and matrix M...\" % len(words))\n",
    "    word2Ind = {}\n",
    "    M = []\n",
    "    curInd = 0\n",
    "    for w in words:\n",
    "        try:\n",
    "            M.append(wv_from_bin.word_vec(w))\n",
    "            word2Ind[w] = curInd\n",
    "            curInd += 1\n",
    "        except KeyError:\n",
    "            continue\n",
    "    for w in required_words:\n",
    "        try:\n",
    "            M.append(wv_from_bin.word_vec(w))\n",
    "            word2Ind[w] = curInd\n",
    "            curInd += 1\n",
    "        except KeyError:\n",
    "            continue\n",
    "    M = np.stack(M)\n",
    "    print(\"Done.\")\n",
    "    return M, word2Ind"
   ]
  },
  {
   "cell_type": "code",
   "execution_count": 20,
   "metadata": {},
   "outputs": [
    {
     "name": "stdout",
     "output_type": "stream",
     "text": [
      "Shuffling words ...\n",
      "Putting 1193514 words into word2Ind and matrix M...\n",
      "Done.\n",
      "Running Truncated SVD over 1193530 words...\n",
      "Done.\n"
     ]
    }
   ],
   "source": [
    "# -----------------------------------------------------------------\n",
    "# Run Cell to Reduce 300-Dimensinal Word Embeddings to k Dimensions\n",
    "# Note: This may take several minutes\n",
    "# -----------------------------------------------------------------\n",
    "M, word2Ind = get_matrix_of_vectors(wv_from_bin)\n",
    "M_reduced = reduce_to_k_dim(M, k=2)"
   ]
  },
  {
   "cell_type": "markdown",
   "metadata": {},
   "source": [
    "# Question 2.1: Word2Vec Plot Analysis [written] (4 points)\n",
    "\n",
    "Run the cell below to plot the 2D word2vec embeddings for ['softball', 'street', 'project', 'maps', 'view', 'fuel',  'summer', 'ball', 'steal', 'soccer', 'driving', 'motor', 'comedy'].\n",
    "\n",
    "What clusters together in 2-dimensional embedding space? What doesn't cluster together that you might think should have? How is the plot different from the one generated earlier from the co-occurrence matrix?"
   ]
  },
  {
   "cell_type": "code",
   "execution_count": 21,
   "metadata": {},
   "outputs": [
    {
     "data": {
      "image/png": "[encoded data removed]",
      "text/plain": [
       "<Figure size 432x288 with 1 Axes>"
      ]
     },
     "metadata": {
      "needs_background": "light"
     },
     "output_type": "display_data"
    }
   ],
   "source": [
    "words = [\n",
    " 'softball',\n",
    " 'street',\n",
    " 'project',\n",
    " 'maps',\n",
    " 'view',\n",
    " 'fuel',\n",
    " 'summer',\n",
    " 'ball',\n",
    " 'steal',\n",
    " 'soccer',\n",
    " 'driving',\n",
    " 'motor',\n",
    " 'comedy'\n",
    "]\n",
    "plot_embeddings(M_reduced, word2Ind, words)"
   ]
  },
  {
   "cell_type": "markdown",
   "metadata": {
    "deletable": false,
    "nbgrader": {
     "cell_type": "markdown",
     "checksum": "295526681ca3bf1fffe57437836acf99",
     "grade": true,
     "grade_id": "cell-3b3b23afd5843da8",
     "locked": false,
     "points": 4,
     "schema_version": 3,
     "solution": true,
     "task": false
    }
   },
   "source": [
    "###YOUR ANSWER HERE\n",
    "\n",
    "After running the cell to plot 2D word2vec embeddings for ['softball', 'street', 'project', 'maps', 'view', 'fuel', 'summer', 'ball', 'steal', 'soccer', 'driving', 'motor', 'comedy'], we see that 'maps' and 'steal' cluster together, which should not be the case as they are not correlated at all. The same applies for 'soccer' and 'view'.\n",
    "However 'soccer' and 'softball' are somewhat in closer proximity than the case before.\n",
    "\n"
   ]
  },
  {
   "cell_type": "markdown",
   "metadata": {},
   "source": [
    "# Cosine Similarity\n",
    "\n",
    "Now that we have word vectors, we need a way to quantify the similarity between individual words, according to these vectors. One such metric is cosine-similarity. We will be using this to find words that are \"close\" and \"far\" from one another.\n",
    "\n",
    "We can think of n-dimensional vectors as points in n-dimensional space. If we take this perspective L1 and L2 Distances help quantify the amount of space \"we must travel\" to get between these two points. Another approach is to examine the angle between two vectors. From trigonometry we know that:\n",
    "\n",
    "**Insert Image**\n",
    "\n",
    "Instead of computing the actual angle, we can leave the similarity in terms of  $similarity=cos(Θ)$. Formally the [Cosine Similarity] $s$ between two vectors $p$ and $q$ is defined as:\n",
    "\n",
    "**Insert Image**\n",
    "\n",
    "[Cosine Similarity]: https://en.wikipedia.org/wiki/Cosine_similarity"
   ]
  },
  {
   "cell_type": "markdown",
   "metadata": {},
   "source": [
    "# Question 2.2: Polysemous Words (2 points) [code + written]\n",
    "\n",
    "Find a polysemous word (for example, \"leaves\" or \"scoop\") such that the top-10 most similar words (according to cosine similarity) contains related words from both meanings. For example, \"leaves\" has both \"vanishes\" and \"stalks\" in the top 10, and \"scoop\" has both \"handed_waffle_cone\" and \"lowdown\". You will probably need to try several polysemous words before you find one. Please state the polysemous word you discover and the multiple meanings that occur in the top 10. Why do you think many of the polysemous words you tried didn't work?\n",
    "\n",
    "**Note:** You should use the wv_from_bin.most_similar(word) function to get the top 10 similar words. This function ranks all other words in the vocabulary with respect to their cosine similarity to the given word. For further assistance please check the [GenSim documentation].\n",
    "\n",
    "[GenSim documentation]: https://radimrehurek.com/gensim/models/keyedvectors.html#gensim.models.keyedvectors.FastTextKeyedVectors.most_similar"
   ]
  },
  {
   "cell_type": "code",
   "execution_count": 22,
   "metadata": {
    "deletable": false,
    "nbgrader": {
     "cell_type": "code",
     "checksum": "e02229d6b8eac3eb1e9ff08ad1cca24d",
     "grade": false,
     "grade_id": "cell-62967709f1999734",
     "locked": false,
     "schema_version": 3,
     "solution": true
    },
    "scrolled": true
   },
   "outputs": [
    {
     "data": {
      "text/plain": [
       "[('books', 0.9418188333511353),\n",
       " ('project', 0.9214614629745483),\n",
       " ('review', 0.9140495657920837),\n",
       " ('script', 0.9069416522979736),\n",
       " ('new', 0.9069172143936157),\n",
       " ('feature', 0.8995184898376465),\n",
       " ('guest', 0.8978615999221802),\n",
       " ('read', 0.8931056261062622),\n",
       " ('post', 0.8916702270507812),\n",
       " ('art', 0.8880470991134644)]"
      ]
     },
     "execution_count": 22,
     "metadata": {},
     "output_type": "execute_result"
    }
   ],
   "source": [
    "# YOUR CODE HERE\n",
    "\n",
    "#wv_from_bin.most_similar(\"teacher\")\n",
    "wv_from_bin.most_similar(\"arms\")\n",
    "wv_from_bin.most_similar(\"crane\")\n",
    "wv_from_bin.most_similar(\"subject\")\n",
    "wv_from_bin.most_similar(\"book\")\n",
    "\n",
    "#raise NotImplementedError()"
   ]
  },
  {
   "cell_type": "markdown",
   "metadata": {
    "deletable": false,
    "nbgrader": {
     "cell_type": "markdown",
     "checksum": "f3e796f9e61fe078b3458ae1db35ad43",
     "grade": true,
     "grade_id": "cell-95810c2a02cf5d82",
     "locked": false,
     "points": 2,
     "schema_version": 3,
     "solution": true,
     "task": false
    }
   },
   "source": [
    "YOUR ANSWER HERE\n",
    "\n",
    "The polysemous words I tried are:\n",
    "\n",
    "1. arms = weapons and guns 'or' front limbs of a person\n",
    "\n",
    "2. crane = a kind of bird 'or' a huge lever machine to lift weights\n",
    "\n",
    "3. suject = a course 'or' to being faced to\n",
    "\n",
    "4. book = a collection of information binded together 'or' to reserve for \n",
    "\n",
    "T words i tried but the algorithm did not work well is because the source of the data the algorithm is trained on is biased towards more common use cases and some of these words include entertainer, angel, etc\n",
    "."
   ]
  },
  {
   "cell_type": "markdown",
   "metadata": {},
   "source": [
    "# Question 2.3: Synonyms & Antonyms (2 points) [code + written]\n",
    "When considering Cosine Similarity, it's often more convenient to think of Cosine Distance, which is simply 1 - Cosine Similarity.\n",
    "\n",
    "Find three words (w1,w2,w3) where w1 and w2 are synonyms and w1 and w3 are antonyms, but Cosine Distance(w1,w3) < Cosine Distance(w1,w2). For example, w1=\"happy\" is closer to w3=\"sad\" than to w2=\"cheerful\".\n",
    "\n",
    "Once you have found your example, please give a possible explanation for why this counter-intuitive result may have happened.\n",
    "\n",
    "You should use the the wv_from_bin.distance(w1, w2) function here in order to compute the cosine distance between two words. Please see the [GenSim documentation] for further assistance.\n",
    "\n",
    "[GenSim documentation]: https://radimrehurek.com/gensim/models/keyedvectors.html#gensim.models.keyedvectors.FastTextKeyedVectors.distance"
   ]
  },
  {
   "cell_type": "code",
   "execution_count": 23,
   "metadata": {
    "scrolled": true
   },
   "outputs": [
    {
     "name": "stdout",
     "output_type": "stream",
     "text": [
      "Synonyms walks, run have cosine distance: 0.2741371989250183\n",
      "Antonyms walks, ground have cosine distance: 0.21394187211990356\n"
     ]
    }
   ],
   "source": [
    "w1 = \"walks\"\n",
    "w2 = \"run\"\n",
    "w3 = \"ground\"\n",
    "w1_w2_dist = wv_from_bin.distance(w1, w2)\n",
    "w1_w3_dist = wv_from_bin.distance(w1, w3)\n",
    "\n",
    "print(\"Synonyms {}, {} have cosine distance: {}\".format(w1, w2, w1_w2_dist))\n",
    "print(\"Antonyms {}, {} have cosine distance: {}\".format(w1, w3, w1_w3_dist))"
   ]
  },
  {
   "cell_type": "code",
   "execution_count": null,
   "metadata": {
    "deletable": false,
    "editable": false,
    "nbgrader": {
     "cell_type": "code",
     "checksum": "a100930befb902bd20275ba03396a1af",
     "grade": true,
     "grade_id": "cell-5ed7cbe180014764",
     "locked": true,
     "points": 1,
     "schema_version": 3,
     "solution": false,
     "task": false
    }
   },
   "outputs": [],
   "source": []
  },
  {
   "cell_type": "markdown",
   "metadata": {},
   "source": [
    "###ANSWER\n",
    "\n",
    "In the given example calculating the Cosine similarity between walks, run and ground:\n",
    "    \n",
    "    cos_dist(walks, run) > cos_dist(walks, ground)\n",
    "    \n",
    "The word2vec alogrithm uses localized windows to group words together and find context and we don not use synonyms together but the same might not be the case for antonyms. \n",
    "\n",
    "In our example, the antonym pair is not very observed together in many corpus.\n",
    "\n"
   ]
  },
  {
   "cell_type": "code",
   "execution_count": 24,
   "metadata": {
    "deletable": false,
    "nbgrader": {
     "cell_type": "code",
     "checksum": "b1316b410141a863eceb8f08c02e1057",
     "grade": true,
     "grade_id": "cell-83d57717fbf8da02",
     "locked": false,
     "points": 1,
     "schema_version": 3,
     "solution": true,
     "task": false
    }
   },
   "outputs": [
    {
     "data": {
      "text/plain": [
       "0.2968660593032837"
      ]
     },
     "execution_count": 24,
     "metadata": {},
     "output_type": "execute_result"
    }
   ],
   "source": [
    "# YOUR CODE HERE\n",
    "\n",
    "#wv_from_bin.distance(\"angel\", \"demon\")\n",
    "#wv_from_bin.distance(\"pen\", \"book\")\n",
    "#wv_from_bin.distance(\"wood\", \"would\")\n",
    "wv_from_bin.distance(\"tall\", \"height\")\n",
    "#wv_from_bin.distance(\"might\", \"may\")\n",
    "                       \n",
    "#print(a,b,c,d,e)\n",
    "\n",
    "#raise NotImplementedError()"
   ]
  },
  {
   "cell_type": "markdown",
   "metadata": {
    "deletable": false,
    "editable": false,
    "nbgrader": {
     "cell_type": "markdown",
     "checksum": "e7c24847b7abd3a78e2256179f5d5ab5",
     "grade": false,
     "grade_id": "cell-bce7fccd78f32954",
     "locked": true,
     "schema_version": 3,
     "solution": false
    }
   },
   "source": [
    "# Part 3: The Bag of Words Representation"
   ]
  },
  {
   "cell_type": "markdown",
   "metadata": {
    "deletable": false,
    "editable": false,
    "nbgrader": {
     "cell_type": "markdown",
     "checksum": "dc8939eaae8621d0cfc625489b3d9eff",
     "grade": false,
     "grade_id": "cell-a3f3181a529e5991",
     "locked": true,
     "schema_version": 3,
     "solution": false
    }
   },
   "source": [
    "Raw text data as a sequence of words cannot be fed directly to the machine learning algorithms as most of them expect numerical feature vectors with a fixed size rather than the raw text data with variable length.\n",
    "\n",
    "In order to address this, we need utilities for the most common ways to extract numerical features from text content, namely:\n",
    "\n",
    "- Tokenizing strings and giving an integer id for each possible token, for instance by using white-spaces and punctuation as token separators.\n",
    "- Counting the occurrences of tokens in each document.\n",
    "- Normalizing and weighting with diminishing importance tokens that occur in the majority of samples / documents.\n",
    "\n",
    "In this scheme, features and samples are defined as follows:\n",
    "\n",
    "- Each individual token occurrence frequency (normalized or not) is treated as a feature.\n",
    "- The vector of all the token frequencies for a given document is considered a multivariate sample.\n",
    "\n",
    "A corpus of documents can thus be represented by a matrix with one row per document and one column per token (e.g. word) occurring in the corpus.\n",
    "\n",
    "We will call vectorization the general process of turning a collection of text documents into numerical feature vectors. This specific strategy (tokenization, counting and normalization) is called the Bag of Words or \"Bag of n-grams\" representation. Documents are described by word occurrences while completely ignoring the relative position information of the words in the document.\n",
    "\n",
    "The Bag of Words (BOW) representation contrasts with the word embeddings feature representation. In  many cases, this representation provides a simple and interpretable features that can perform just as good as word embeddings.\n",
    "\n",
    "In the exercises below, you'll implement a standard pipeline for extracting a BOW feature representation for a text categorization task."
   ]
  },
  {
   "cell_type": "markdown",
   "metadata": {
    "deletable": false,
    "editable": false,
    "nbgrader": {
     "cell_type": "markdown",
     "checksum": "00206eb58bdd57705a6fdc4207322e23",
     "grade": false,
     "grade_id": "cell-fd05509116176169",
     "locked": true,
     "schema_version": 3,
     "solution": false
    }
   },
   "source": [
    "## Question 3.1: Tokenization (2 Points)"
   ]
  },
  {
   "cell_type": "markdown",
   "metadata": {
    "deletable": false,
    "editable": false,
    "nbgrader": {
     "cell_type": "markdown",
     "checksum": "4f17ab097f245b1859500936fe0c76aa",
     "grade": false,
     "grade_id": "cell-ae90f9ce6e065892",
     "locked": true,
     "schema_version": 3,
     "solution": false
    }
   },
   "source": [
    "Given a character sequence and a defined document unit, tokenization is the task of chopping it up into pieces, called tokens, perhaps at the same time throwing away certain characters, such as punctuation. Here is an example of tokenization:"
   ]
  },
  {
   "cell_type": "code",
   "execution_count": 25,
   "metadata": {
    "deletable": false,
    "editable": false,
    "nbgrader": {
     "cell_type": "code",
     "checksum": "b02dfb5bf88aa58ebd47d2ddeff68358",
     "grade": false,
     "grade_id": "cell-3e1556a4e4942832",
     "locked": true,
     "schema_version": 3,
     "solution": false
    }
   },
   "outputs": [
    {
     "name": "stdout",
     "output_type": "stream",
     "text": [
      "Input:  ['The quick brown fox jumps over the lazy dog']\n",
      "Output:  [['The', 'quick', 'brown', 'fox', 'jumps', 'over', 'the', 'lazy', 'dog']]\n"
     ]
    }
   ],
   "source": [
    "inpt = ['The quick brown fox jumps over the lazy dog']\n",
    "output = [['The', 'quick', 'brown', 'fox', 'jumps', 'over', 'the', 'lazy', 'dog']]\n",
    "print('Input: ', inpt)\n",
    "print('Output: ', output)"
   ]
  },
  {
   "cell_type": "markdown",
   "metadata": {
    "deletable": false,
    "editable": false,
    "nbgrader": {
     "cell_type": "markdown",
     "checksum": "37289b537b9bca8350dda55ac75b85ad",
     "grade": false,
     "grade_id": "cell-2c67c65debecec98",
     "locked": true,
     "schema_version": 3,
     "solution": false
    }
   },
   "source": [
    "These tokens are often loosely referred to as terms or words, but it is sometimes important to make a type/token distinction. A token is an instance of a sequence of characters in some particular document that are grouped together as a useful semantic unit for processing.\n",
    "\n",
    "In this section, you're required to implement the \"tokenize\" function. This function takes as an input a \"document\" string, and returns a list of tokens tokenized by white spaces. Please refer to the test cases below for some input and output examples."
   ]
  },
  {
   "cell_type": "code",
   "execution_count": 26,
   "metadata": {
    "deletable": false,
    "nbgrader": {
     "cell_type": "code",
     "checksum": "87c37cb5a618c323bacb0a6ff2661bad",
     "grade": false,
     "grade_id": "cell-057bb0deab8a48e0",
     "locked": false,
     "schema_version": 3,
     "solution": true
    }
   },
   "outputs": [],
   "source": [
    "def tokenize(document):\n",
    "    # YOUR CODE HERE\n",
    "    \n",
    "    tokenized_corpus = document.split()\n",
    "    #print('tokenized_corpus:', tokenized_corpus)\n",
    "    \n",
    "    return tokenized_corpus\n",
    "    \n",
    "    #raise NotImplementedError()"
   ]
  },
  {
   "cell_type": "code",
   "execution_count": 27,
   "metadata": {
    "deletable": false,
    "editable": false,
    "nbgrader": {
     "cell_type": "code",
     "checksum": "04a009efc16d9df8197c34a44256d1df",
     "grade": false,
     "grade_id": "cell-b5f3445fdc6d4ecf",
     "locked": true,
     "schema_version": 3,
     "solution": false
    },
    "scrolled": false
   },
   "outputs": [
    {
     "name": "stdout",
     "output_type": "stream",
     "text": [
      "tokenized_corpus:  [['This', 'is', 'the', 'first', 'document.'], ['This', 'is', 'the', 'second', 'second', 'document.'], ['And', 'the', 'third', 'one.'], ['Is', 'this', 'the', 'first', 'document?']]\n"
     ]
    }
   ],
   "source": [
    "corpus = ['This is the first document.', 'This is the second second document.', 'And the third one.', 'Is this the first document?',]\n",
    "tokenized_corpus = list(map(tokenize, corpus))\n",
    "print('tokenized_corpus: ', tokenized_corpus)"
   ]
  },
  {
   "cell_type": "code",
   "execution_count": 28,
   "metadata": {
    "deletable": false,
    "editable": false,
    "nbgrader": {
     "cell_type": "code",
     "checksum": "7c4f259c43af3b859d002e49f9db2c04",
     "grade": true,
     "grade_id": "cell-5f955226a6b0dc48",
     "locked": true,
     "points": 1,
     "schema_version": 3,
     "solution": false
    },
    "scrolled": true
   },
   "outputs": [],
   "source": [
    "# Check that tokenize returns the correct output for several inputs\n",
    "from unittest import TestCase\n",
    "test_case = TestCase()\n",
    "test_case.assertListEqual(tokenize('This is the first document.'), ['This', 'is', 'the', 'first', 'document.'])\n",
    "test_case.assertListEqual(tokenize('This is the second second document.   '), ['This', 'is', 'the', 'second', 'second', 'document.'])\n",
    "test_case.assertListEqual(tokenize('And the third one.'), ['And', 'the', 'third', 'one.'])\n",
    "test_case.assertListEqual(tokenize('Is this the first document?'), ['Is', 'this', 'the', 'first', 'document?'])"
   ]
  },
  {
   "cell_type": "code",
   "execution_count": 29,
   "metadata": {
    "deletable": false,
    "nbgrader": {
     "cell_type": "code",
     "checksum": "6dd9e0e78598ef9ee94723e3ca885ca1",
     "grade": false,
     "grade_id": "cell-e87533611acaa2cc",
     "locked": false,
     "schema_version": 3,
     "solution": true
    }
   },
   "outputs": [],
   "source": [
    "# This cell is intentionally left blank\n",
    "\n",
    "# YOUR CODE HERE\n",
    "#raise NotImplementedError()"
   ]
  },
  {
   "cell_type": "code",
   "execution_count": 30,
   "metadata": {
    "deletable": false,
    "editable": false,
    "nbgrader": {
     "cell_type": "code",
     "checksum": "0d417cee51be9b8998db05d60fbdaed9",
     "grade": true,
     "grade_id": "cell-db65e514b04b2918",
     "locked": true,
     "points": 1,
     "schema_version": 3,
     "solution": false
    }
   },
   "outputs": [],
   "source": [
    "# More hidden test cases are included in this cell\n"
   ]
  },
  {
   "cell_type": "markdown",
   "metadata": {
    "deletable": false,
    "editable": false,
    "nbgrader": {
     "cell_type": "markdown",
     "checksum": "b504eaec53c7448dec058659ade40a9f",
     "grade": false,
     "grade_id": "cell-a8a0ceb5550f4b4e",
     "locked": true,
     "schema_version": 3,
     "solution": false
    }
   },
   "source": [
    "## Question 3.2: Create a Bag of Words Representation (2 Points)"
   ]
  },
  {
   "cell_type": "markdown",
   "metadata": {
    "deletable": false,
    "editable": false,
    "nbgrader": {
     "cell_type": "markdown",
     "checksum": "0848cb83be08179f6c2685c4f3f053ef",
     "grade": false,
     "grade_id": "cell-baf5ba7408b6b1f7",
     "locked": true,
     "schema_version": 3,
     "solution": false
    }
   },
   "source": [
    "In this section, you're required to implement the \"document_to_bag_of_words\" function. This function takes as input a tokenized document, and returns a dictionary of counts, mapping every token to the number of times it appeared in the document. Please refer to the test cases below for input and output examples. "
   ]
  },
  {
   "cell_type": "code",
   "execution_count": 31,
   "metadata": {
    "deletable": false,
    "nbgrader": {
     "cell_type": "code",
     "checksum": "21ac13072037c50e8514460ef3110ffb",
     "grade": false,
     "grade_id": "cell-d8ab1e13e1bf82cf",
     "locked": false,
     "schema_version": 3,
     "solution": true
    },
    "scrolled": true
   },
   "outputs": [
    {
     "name": "stdout",
     "output_type": "stream",
     "text": [
      "bag of words corpus:  [Counter({'This': 1, 'is': 1, 'the': 1, 'first': 1, 'document.': 1}), Counter({'second': 2, 'This': 1, 'is': 1, 'the': 1, 'document.': 1}), Counter({'And': 1, 'the': 1, 'third': 1, 'one.': 1}), Counter({'Is': 1, 'this': 1, 'the': 1, 'first': 1, 'document?': 1})]\n"
     ]
    }
   ],
   "source": [
    "from collections import Counter\n",
    "\n",
    "def document_to_bag_of_words(tokenized_document):\n",
    "    # YOUR CODE HERE\n",
    "    \n",
    "    word_freq = Counter(tokenized_document)\n",
    "    \n",
    "    return word_freq\n",
    "    \n",
    "    #raise NotImplementedError()\n",
    "\n",
    "def corpus_to_bag_of_words(tokenized_corpus):\n",
    "    return list(map(document_to_bag_of_words, tokenized_corpus))\n",
    "\n",
    "bag_of_words_corpus = corpus_to_bag_of_words(tokenized_corpus=tokenized_corpus)\n",
    "print('bag of words corpus: ', bag_of_words_corpus)"
   ]
  },
  {
   "cell_type": "code",
   "execution_count": 32,
   "metadata": {
    "deletable": false,
    "editable": false,
    "nbgrader": {
     "cell_type": "code",
     "checksum": "386bef75df61ebb254733c3e36b39cd3",
     "grade": true,
     "grade_id": "cell-61948a34d13e1108",
     "locked": true,
     "points": 1,
     "schema_version": 3,
     "solution": false
    }
   },
   "outputs": [],
   "source": [
    "# Check that document_to_bag_of_words returns the correct output for different inputs\n",
    "test_case = TestCase()\n",
    "test_case.assertCountEqual(document_to_bag_of_words(['This', 'is', 'the', 'first', 'document.']), Counter({'This': 1, 'is': 1, 'the': 1, 'first': 1, 'document.': 1}))\n",
    "test_case.assertCountEqual(document_to_bag_of_words(['This', 'is', 'the', 'second', 'second', 'document.']), Counter({'second': 2, 'This': 1, 'is': 1, 'the': 1, 'document.': 1}))\n",
    "test_case.assertCountEqual(document_to_bag_of_words(['And', 'the', 'third', 'one.']), Counter({'And': 1, 'the': 1, 'third': 1, 'one.': 1}))\n",
    "test_case.assertCountEqual(document_to_bag_of_words(['Is', 'this', 'the', 'first', 'document?']), Counter({'Is': 1, 'this': 1, 'the': 1, 'first': 1, 'document?': 1}))"
   ]
  },
  {
   "cell_type": "code",
   "execution_count": 33,
   "metadata": {
    "deletable": false,
    "nbgrader": {
     "cell_type": "code",
     "checksum": "2d2d644a8a6b7ef54b2d7086634fe5db",
     "grade": false,
     "grade_id": "cell-dbb91fbd9227a867",
     "locked": false,
     "schema_version": 3,
     "solution": true
    }
   },
   "outputs": [],
   "source": [
    "# This cell in intentionally left blank\n",
    "\n",
    "# YOUR CODE HERE\n",
    "#raise NotImplementedError()"
   ]
  },
  {
   "cell_type": "code",
   "execution_count": 34,
   "metadata": {
    "deletable": false,
    "editable": false,
    "nbgrader": {
     "cell_type": "code",
     "checksum": "49e3f3100a3226891830c3bf5fb6d877",
     "grade": true,
     "grade_id": "cell-0e0040ac8b758029",
     "locked": true,
     "points": 1,
     "schema_version": 3,
     "solution": false
    }
   },
   "outputs": [],
   "source": [
    "# More hidden test cases are included in this cell\n"
   ]
  },
  {
   "cell_type": "markdown",
   "metadata": {},
   "source": [
    "## Question 3.3: Create a Bag of N-Grams (2 Points)"
   ]
  },
  {
   "cell_type": "markdown",
   "metadata": {
    "deletable": false,
    "editable": false,
    "nbgrader": {
     "cell_type": "markdown",
     "checksum": "0b2ecab0b77fce9e5e84b07d16eee8f3",
     "grade": false,
     "grade_id": "cell-f486d912d106ce09",
     "locked": true,
     "schema_version": 3,
     "solution": false
    }
   },
   "source": [
    "In this section, you're required to implement the \"document_to_bag_of_n_gram\" function. This function takes as input a tokenized document, and the length of N-grams to be extracted. The function returns a dictionary of counts, where the keys represent an N-gram, and the values represent the frequency counts (how many times the N-gram appeared in the document). Please refer to the test cases below for the exact method signature and expected value types. The function returns a dictionary of type \"Counter\" from the collections module. N-grams are represented as tuples, and frequencies are integer values."
   ]
  },
  {
   "cell_type": "code",
   "execution_count": 35,
   "metadata": {
    "deletable": false,
    "nbgrader": {
     "cell_type": "code",
     "checksum": "f0d80a61bcbca0372c05101405157bdd",
     "grade": false,
     "grade_id": "cell-2db8efd44a18ed8b",
     "locked": false,
     "schema_version": 3,
     "solution": true
    },
    "scrolled": true
   },
   "outputs": [
    {
     "name": "stdout",
     "output_type": "stream",
     "text": [
      "bag of bigram corpus:  [Counter({('document.',): 2, ('This',): 1, ('is',): 1, ('the',): 1, ('first',): 1, ('This', 'is'): 1, ('is', 'the'): 1, ('the', 'first'): 1, ('first', 'document.'): 1}), Counter({('second',): 2, ('document.',): 2, ('This',): 1, ('is',): 1, ('the',): 1, ('This', 'is'): 1, ('is', 'the'): 1, ('the', 'second'): 1, ('second', 'second'): 1, ('second', 'document.'): 1}), Counter({('one.',): 2, ('And',): 1, ('the',): 1, ('third',): 1, ('And', 'the'): 1, ('the', 'third'): 1, ('third', 'one.'): 1}), Counter({('document?',): 2, ('Is',): 1, ('this',): 1, ('the',): 1, ('first',): 1, ('Is', 'this'): 1, ('this', 'the'): 1, ('the', 'first'): 1, ('first', 'document?'): 1})]\n"
     ]
    }
   ],
   "source": [
    "from functools import partial\n",
    "\n",
    "def document_to_bag_of_n_gram(tokenized_document, n_grams):\n",
    "    counter = Counter()\n",
    "    # YOUR CODE HERE\n",
    "    \n",
    "    \n",
    "    x= tuple(tokenized_document)\n",
    "    y = tuple(x[z:z + 1] for z in range(0, len(x), 1)) \n",
    "\n",
    "    \n",
    "    ngrams_lst = []\n",
    "    for i in range(0, len(tokenized_document)):\n",
    "        ngrams_lst.append(tuple(tokenized_document[i:i+n_grams]))\n",
    "            \n",
    "    counter = Counter((list(y)+ngrams_lst))   \n",
    "    \n",
    "\n",
    "    #raise NotImplementedError()\n",
    "    return counter\n",
    "\n",
    "def corpus_to_bag_of_n_gram(tokenized_corpus, n_grams):\n",
    "    return list(map(partial(document_to_bag_of_n_gram, n_grams=n_grams), tokenized_corpus))\n",
    "\n",
    "bag_of_bigram_corpus = corpus_to_bag_of_n_gram(tokenized_corpus, n_grams=2)\n",
    "print('bag of bigram corpus: ', bag_of_bigram_corpus)"
   ]
  },
  {
   "cell_type": "code",
   "execution_count": 36,
   "metadata": {
    "deletable": false,
    "editable": false,
    "nbgrader": {
     "cell_type": "code",
     "checksum": "542264be30029ed15f0c70c77380694d",
     "grade": true,
     "grade_id": "cell-7e103de96a0e02d3",
     "locked": true,
     "points": 1,
     "schema_version": 3,
     "solution": false,
     "task": false
    },
    "scrolled": true
   },
   "outputs": [],
   "source": [
    "# Check that document_to_bag_of_n_gram returns the correct output for different inputs\n",
    "test_case = TestCase()\n",
    "test_case.assertCountEqual(document_to_bag_of_n_gram(['This', 'is', 'the', 'first', 'document.'], n_grams=2), Counter({('This',): 1, ('is',): 1, ('the',): 1, ('first',): 1, ('document.',): 1, ('This', 'is'): 1, ('is', 'the'): 1, ('the', 'first'): 1, ('first', 'document.'): 1}))\n",
    "test_case.assertCountEqual(document_to_bag_of_n_gram(['This', 'is', 'the', 'second', 'second', 'document.'], n_grams=2), Counter({('second',): 2, ('This',): 1, ('is',): 1, ('the',): 1, ('document.',): 1, ('This', 'is'): 1, ('is', 'the'): 1, ('the', 'second'): 1, ('second', 'second'): 1, ('second', 'document.'): 1}))\n",
    "test_case.assertCountEqual(document_to_bag_of_n_gram(['And', 'the', 'third', 'one.'], n_grams=2),Counter({('And',): 1, ('the',): 1, ('third',): 1, ('one.',): 1, ('And', 'the'): 1, ('the', 'third'): 1, ('third', 'one.'): 1}) )\n",
    "test_case.assertCountEqual(document_to_bag_of_n_gram(['Is', 'this', 'the', 'first', 'document?'], n_grams=2), Counter({('Is',): 1, ('this',): 1, ('the',): 1, ('first',): 1, ('document?',): 1, ('Is', 'this'): 1, ('this', 'the'): 1, ('the', 'first'): 1, ('first', 'document?'): 1}))"
   ]
  },
  {
   "cell_type": "code",
   "execution_count": 37,
   "metadata": {
    "deletable": false,
    "nbgrader": {
     "cell_type": "code",
     "checksum": "0a83c8d25e55ecc3a79641947e62434f",
     "grade": false,
     "grade_id": "cell-a4693e40290e064b",
     "locked": false,
     "schema_version": 3,
     "solution": true
    }
   },
   "outputs": [],
   "source": [
    "# This cell is intentionally left blank\n",
    "\n",
    "# YOUR CODE HERE\n",
    "#raise NotImplementedError()"
   ]
  },
  {
   "cell_type": "code",
   "execution_count": 38,
   "metadata": {
    "deletable": false,
    "editable": false,
    "nbgrader": {
     "cell_type": "code",
     "checksum": "3b4b52ace7c1cbf2958c298d8fcf6689",
     "grade": true,
     "grade_id": "cell-047d083fe141f71e",
     "locked": true,
     "points": 1,
     "schema_version": 3,
     "solution": false
    }
   },
   "outputs": [],
   "source": [
    "# More hidden test cases are included in this cell\n"
   ]
  },
  {
   "cell_type": "markdown",
   "metadata": {},
   "source": [
    "## Question 3.4: Create the Vocabulary (2 Points)"
   ]
  },
  {
   "cell_type": "markdown",
   "metadata": {},
   "source": [
    "In this section, you're required to implement the \"create_vocabulary\" function. This function takes an input a corpus (i.e. a list of bag-of-words dictionary), and returns a vocabulary dictionary mapping each word to a unique integer ID starting from zero. Please use the same order of iterations in the document as in the code snippet below. Again, you can refer to the test cases below for more concrete examples."
   ]
  },
  {
   "cell_type": "code",
   "execution_count": 39,
   "metadata": {
    "deletable": false,
    "nbgrader": {
     "cell_type": "code",
     "checksum": "3eb283b5bc3710144591145d54df3103",
     "grade": false,
     "grade_id": "cell-b9b8288912af2c98",
     "locked": false,
     "schema_version": 3,
     "solution": true
    }
   },
   "outputs": [
    {
     "name": "stdout",
     "output_type": "stream",
     "text": [
      "{('This',): 0, ('is',): 1, ('the',): 2, ('first',): 3, ('document.',): 4, ('This', 'is'): 5, ('is', 'the'): 6, ('the', 'first'): 7, ('first', 'document.'): 8, ('second',): 9, ('the', 'second'): 10, ('second', 'second'): 11, ('second', 'document.'): 12, ('And',): 13, ('third',): 14, ('one.',): 15, ('And', 'the'): 16, ('the', 'third'): 17, ('third', 'one.'): 18, ('Is',): 19, ('this',): 20, ('document?',): 21, ('Is', 'this'): 22, ('this', 'the'): 23, ('first', 'document?'): 24}\n",
      "vocab:  {('This',): 0, ('is',): 1, ('the',): 2, ('first',): 3, ('document.',): 4, ('This', 'is'): 5, ('is', 'the'): 6, ('the', 'first'): 7, ('first', 'document.'): 8, ('second',): 9, ('the', 'second'): 10, ('second', 'second'): 11, ('second', 'document.'): 12, ('And',): 13, ('third',): 14, ('one.',): 15, ('And', 'the'): 16, ('the', 'third'): 17, ('third', 'one.'): 18, ('Is',): 19, ('this',): 20, ('document?',): 21, ('Is', 'this'): 22, ('this', 'the'): 23, ('first', 'document?'): 24}\n"
     ]
    }
   ],
   "source": [
    "# Return a dictionary that maps tokens to integer id, please use the given order of iterations, and assign unique \n",
    "# sequential integer IDS starting from 0\n",
    "def create_vocabulary(corpus):\n",
    "    vocab = {}\n",
    "    x=0\n",
    "    z = []\n",
    "    \n",
    "    for document in corpus:\n",
    "        for token in document:\n",
    "            # YOUR CODE HERE\n",
    "        \n",
    "            z.append(token) \n",
    "            z = list(dict.fromkeys(z)) \n",
    "   \n",
    "    for i in z:\n",
    "        x +=1\n",
    "        vocab.update({i:x-1}) \n",
    "        \n",
    "    #print(z)        \n",
    "    print(vocab)\n",
    "  \n",
    "            \n",
    "            \n",
    "            #raise NotImplementedError()\n",
    "    return vocab\n",
    "\n",
    "vocab = create_vocabulary(corpus=bag_of_bigram_corpus)\n",
    "print('vocab: ', vocab)"
   ]
  },
  {
   "cell_type": "code",
   "execution_count": 40,
   "metadata": {
    "deletable": false,
    "editable": false,
    "nbgrader": {
     "cell_type": "code",
     "checksum": "0f867b6931a92a67d72d3a0fa1079c34",
     "grade": true,
     "grade_id": "cell-621e92d1f0bbbe20",
     "locked": true,
     "points": 1,
     "schema_version": 3,
     "solution": false,
     "task": false
    }
   },
   "outputs": [
    {
     "name": "stdout",
     "output_type": "stream",
     "text": [
      "{('This',): 0, ('is',): 1, ('the',): 2, ('first',): 3, ('document.',): 4, ('This', 'is'): 5, ('is', 'the'): 6, ('the', 'first'): 7, ('first', 'document.'): 8, ('second',): 9, ('the', 'second'): 10, ('second', 'second'): 11, ('second', 'document.'): 12, ('And',): 13, ('third',): 14, ('one.',): 15, ('And', 'the'): 16, ('the', 'third'): 17, ('third', 'one.'): 18, ('Is',): 19, ('this',): 20, ('document?',): 21, ('Is', 'this'): 22, ('this', 'the'): 23, ('first', 'document?'): 24}\n"
     ]
    }
   ],
   "source": [
    "test_case = TestCase()\n",
    "bag_of_bigram_corpus = [Counter({('This',): 1, ('is',): 1, ('the',): 1, ('first',): 1, ('document.',): 1, ('This', 'is'): 1, ('is', 'the'): 1, ('the', 'first'): 1, ('first', 'document.'): 1}), Counter({('second',): 2, ('This',): 1, ('is',): 1, ('the',): 1, ('document.',): 1, ('This', 'is'): 1, ('is', 'the'): 1, ('the', 'second'): 1, ('second', 'second'): 1, ('second', 'document.'): 1}), Counter({('And',): 1, ('the',): 1, ('third',): 1, ('one.',): 1, ('And', 'the'): 1, ('the', 'third'): 1, ('third', 'one.'): 1}), Counter({('Is',): 1, ('this',): 1, ('the',): 1, ('first',): 1, ('document?',): 1, ('Is', 'this'): 1, ('this', 'the'): 1, ('the', 'first'): 1, ('first', 'document?'): 1})]\n",
    "test_case.assertDictEqual(create_vocabulary(bag_of_bigram_corpus), {('This',): 0, ('is',): 1, ('the',): 2, ('first',): 3, ('document.',): 4, ('This', 'is'): 5, ('is', 'the'): 6, ('the', 'first'): 7, ('first', 'document.'): 8, ('second',): 9, ('the', 'second'): 10, ('second', 'second'): 11, ('second', 'document.'): 12, ('And',): 13, ('third',): 14, ('one.',): 15, ('And', 'the'): 16, ('the', 'third'): 17, ('third', 'one.'): 18, ('Is',): 19, ('this',): 20, ('document?',): 21, ('Is', 'this'): 22, ('this', 'the'): 23, ('first', 'document?'): 24})"
   ]
  },
  {
   "cell_type": "code",
   "execution_count": 41,
   "metadata": {
    "deletable": false,
    "editable": false,
    "nbgrader": {
     "cell_type": "code",
     "checksum": "77f36648f3ce75b67ef3a6ad3984a48e",
     "grade": true,
     "grade_id": "cell-2d0507f44078aa3c",
     "locked": true,
     "points": 1,
     "schema_version": 3,
     "solution": false
    }
   },
   "outputs": [],
   "source": [
    "# More hidden test cases are included in this cell\n"
   ]
  },
  {
   "cell_type": "markdown",
   "metadata": {
    "deletable": false,
    "editable": false,
    "nbgrader": {
     "cell_type": "markdown",
     "checksum": "1e5133d320fdfe05717d1babcdba97ed",
     "grade": false,
     "grade_id": "cell-865cf9f60dcd65cf",
     "locked": true,
     "schema_version": 3,
     "solution": false
    }
   },
   "source": [
    "## Question 3.5: Numericalize the Corpus (2 Points)"
   ]
  },
  {
   "cell_type": "markdown",
   "metadata": {
    "deletable": false,
    "editable": false,
    "nbgrader": {
     "cell_type": "markdown",
     "checksum": "8b092d98efe706b497fdc30ad825fc37",
     "grade": false,
     "grade_id": "cell-31368073c6f5a4da",
     "locked": true,
     "schema_version": 3,
     "solution": false
    }
   },
   "source": [
    "In this section, you're required to implement the \"numericalize_document\" function. This function takes as input a document (a bag-of-words Counter), and a vocabulary dictionary (a dictionary from words to IDs), and returns a numeric representation for the document, where each word in the bag is replaced with it's numeric ID from the vocabulary. Please refer to the test cases below for some input and output examples."
   ]
  },
  {
   "cell_type": "code",
   "execution_count": 42,
   "metadata": {
    "deletable": false,
    "nbgrader": {
     "cell_type": "code",
     "checksum": "120ded67c7b2f6b698647a7aab0c5a72",
     "grade": false,
     "grade_id": "cell-1aa352eed117defb",
     "locked": false,
     "schema_version": 3,
     "solution": true
    }
   },
   "outputs": [
    {
     "name": "stdout",
     "output_type": "stream",
     "text": [
      "vocab:  {('This',): 0, ('is',): 1, ('the',): 2, ('first',): 3, ('document.',): 4, ('This', 'is'): 5, ('is', 'the'): 6, ('the', 'first'): 7, ('first', 'document.'): 8, ('second',): 9, ('the', 'second'): 10, ('second', 'second'): 11, ('second', 'document.'): 12, ('And',): 13, ('third',): 14, ('one.',): 15, ('And', 'the'): 16, ('the', 'third'): 17, ('third', 'one.'): 18, ('Is',): 19, ('this',): 20, ('document?',): 21, ('Is', 'this'): 22, ('this', 'the'): 23, ('first', 'document?'): 24}\n",
      "numeric_corpus:  [{0: 1, 1: 1, 2: 1, 3: 1, 4: 1, 5: 1, 6: 1, 7: 1, 8: 1}, {9: 2, 0: 1, 1: 1, 2: 1, 4: 1, 5: 1, 6: 1, 10: 1, 11: 1, 12: 1}, {13: 1, 2: 1, 14: 1, 15: 1, 16: 1, 17: 1, 18: 1}, {19: 1, 20: 1, 2: 1, 3: 1, 21: 1, 22: 1, 23: 1, 7: 1, 24: 1}]\n"
     ]
    }
   ],
   "source": [
    "def numericalize_document(document, vocab):\n",
    "    numeric_counter = Counter()\n",
    "    \n",
    "    # YOUR CODE HERE\n",
    "    \n",
    "    z={}\n",
    "    \n",
    "    for value in document:\n",
    "        i = vocab[value]\n",
    "        z.update({i:document[value]})\n",
    "        \n",
    "    numeric_counter = z\n",
    "    \n",
    "    #raise NotImplementedError()\n",
    "    return numeric_counter\n",
    "\n",
    "def numericalize_corpus(bag_of_bigram_corpus, vocab):    \n",
    "    return list(map(partial(numericalize_document, vocab=vocab), bag_of_bigram_corpus))\n",
    "\n",
    "print('vocab: ', vocab)\n",
    "numeric_corpus = numericalize_corpus(bag_of_bigram_corpus=bag_of_bigram_corpus, vocab=vocab)\n",
    "print('numeric_corpus: ', numeric_corpus)"
   ]
  },
  {
   "cell_type": "code",
   "execution_count": 43,
   "metadata": {
    "deletable": false,
    "editable": false,
    "nbgrader": {
     "cell_type": "code",
     "checksum": "67597dadc10498f369074369672b619c",
     "grade": true,
     "grade_id": "cell-aedec2236d3234ed",
     "locked": true,
     "points": 1,
     "schema_version": 3,
     "solution": false
    }
   },
   "outputs": [],
   "source": [
    "test_case = TestCase()\n",
    "vocab = {('This',): 0, ('is',): 1, ('the',): 2, ('first',): 3, ('document.',): 4, ('This', 'is'): 5, ('is', 'the'): 6, ('the', 'first'): 7, ('first', 'document.'): 8, ('second',): 9, ('the', 'second'): 10, ('second', 'second'): 11, ('second', 'document.'): 12, ('And',): 13, ('third',): 14, ('one.',): 15, ('And', 'the'): 16, ('the', 'third'): 17, ('third', 'one.'): 18, ('Is',): 19, ('this',): 20, ('document?',): 21, ('Is', 'this'): 22, ('this', 'the'): 23, ('first', 'document?'): 24}\n",
    "document = Counter({('This',): 1, ('is',): 1, ('the',): 1, ('first',): 1, ('document.',): 1, ('This', 'is'): 1, ('is', 'the'): 1, ('the', 'first'): 1, ('first', 'document.'): 1})\n",
    "numeric_document = numericalize_document(document=document, vocab=vocab)\n",
    "test_case.assertCountEqual(numeric_document, Counter({0: 1, 1: 1, 2: 1, 3: 1, 4: 1, 5: 1, 6: 1, 7: 1, 8: 1}))\n",
    "document = Counter({('second',): 2, ('This',): 1, ('is',): 1, ('the',): 1, ('document.',): 1, ('This', 'is'): 1, ('is', 'the'): 1, ('the', 'second'): 1, ('second', 'second'): 1, ('second', 'document.'): 1})\n",
    "numeric_document = numericalize_document(document=document, vocab=vocab)\n",
    "test_case.assertCountEqual(numeric_document, Counter({9: 2, 0: 1, 1: 1, 2: 1, 4: 1, 5: 1, 6: 1, 10: 1, 11: 1, 12: 1}))\n",
    "document = Counter({('And',): 1, ('the',): 1, ('third',): 1, ('one.',): 1, ('And', 'the'): 1, ('the', 'third'): 1, ('third', 'one.'): 1})\n",
    "numeric_document = numericalize_document(document=document, vocab=vocab)\n",
    "test_case.assertCountEqual(numeric_document, Counter({13: 1, 2: 1, 14: 1, 15: 1, 16: 1, 17: 1, 18: 1}))\n",
    "document = Counter({('Is',): 1, ('this',): 1, ('the',): 1, ('first',): 1, ('document?',): 1, ('Is', 'this'): 1, ('this', 'the'): 1, ('the', 'first'): 1, ('first', 'document?'): 1})\n",
    "numeric_document = numericalize_document(document=document, vocab=vocab)\n",
    "test_case.assertCountEqual(numeric_document, Counter({19: 1, 20: 1, 2: 1, 3: 1, 21: 1, 22: 1, 23: 1, 7: 1, 24: 1}))"
   ]
  },
  {
   "cell_type": "code",
   "execution_count": 44,
   "metadata": {
    "deletable": false,
    "editable": false,
    "nbgrader": {
     "cell_type": "code",
     "checksum": "646656169c0f064b42c0bc71e3931c71",
     "grade": true,
     "grade_id": "cell-8ceeb5b98b1da969",
     "locked": true,
     "points": 1,
     "schema_version": 3,
     "solution": false
    }
   },
   "outputs": [],
   "source": [
    "# More hidden test cases are included in this cell\n"
   ]
  },
  {
   "cell_type": "markdown",
   "metadata": {
    "deletable": false,
    "editable": false,
    "nbgrader": {
     "cell_type": "markdown",
     "checksum": "5c7aaaa973c921587cf3e99b2d1873fa",
     "grade": false,
     "grade_id": "cell-c6bb2d02ae113bce",
     "locked": true,
     "schema_version": 3,
     "solution": false
    }
   },
   "source": [
    "## Question 3.6: Vectorize the Corpus (2 Points)"
   ]
  },
  {
   "cell_type": "markdown",
   "metadata": {
    "deletable": false,
    "editable": false,
    "nbgrader": {
     "cell_type": "markdown",
     "checksum": "3f6b1cff3ba0ed8befcbb579e21d6685",
     "grade": false,
     "grade_id": "cell-7f7a0192532e2b29",
     "locked": true,
     "schema_version": 3,
     "solution": false
    }
   },
   "source": [
    "In this section, you're required to implement the \"vectorize_document\" function. This function takes as input a numeric document and a vocabulary, and returns a vectorized feature representation for the document. The function returns a vector of dimension $|V|$, the number of words in the vocabulary. The value of each entry in the vector is the frequency of occurance of the corresponding vocabulary word in the document. Please refer to the test cases for more detailed examples. This concludes the BOW feature extraction pipeline."
   ]
  },
  {
   "cell_type": "code",
   "execution_count": 45,
   "metadata": {
    "deletable": false,
    "nbgrader": {
     "cell_type": "code",
     "checksum": "7829519cdd05fcd9f111f7461266a397",
     "grade": false,
     "grade_id": "cell-2225f2514d8b1840",
     "locked": false,
     "schema_version": 3,
     "solution": true
    }
   },
   "outputs": [
    {
     "name": "stdout",
     "output_type": "stream",
     "text": [
      "vectorized_corpus:  array([[1., 1., 1., 1., 1., 1., 1., 1., 1., 0., 0., 0., 0., 0., 0., 0.,\n",
      "        0., 0., 0., 0., 0., 0., 0., 0., 0.],\n",
      "       [1., 1., 1., 0., 1., 1., 1., 0., 0., 2., 1., 1., 1., 0., 0., 0.,\n",
      "        0., 0., 0., 0., 0., 0., 0., 0., 0.],\n",
      "       [0., 0., 1., 0., 0., 0., 0., 0., 0., 0., 0., 0., 0., 1., 1., 1.,\n",
      "        1., 1., 1., 0., 0., 0., 0., 0., 0.],\n",
      "       [0., 0., 1., 1., 0., 0., 0., 1., 0., 0., 0., 0., 0., 0., 0., 0.,\n",
      "        0., 0., 0., 1., 1., 1., 1., 1., 1.]])\n"
     ]
    }
   ],
   "source": [
    "import numpy as np\n",
    "\n",
    "def vectorize_document(numeric_document, vocab):\n",
    "    vocab_size = len(vocab)\n",
    "    document_vector = np.zeros(vocab_size)\n",
    "    # YOUR CODE HERE\n",
    "    \n",
    "    arr = []\n",
    "    \n",
    "    for i in numeric_document:\n",
    "        document_vector[i]=numeric_document[i]\n",
    "    \n",
    "    #raise NotImplementedError()\n",
    "    return document_vector\n",
    "\n",
    "def vectorize_corpus(numeric_corpus, vocab):\n",
    "    return np.array(list(map(partial(vectorize_document, vocab=vocab), numeric_corpus)))\n",
    "\n",
    "vectorized_corpus = vectorize_corpus(numeric_corpus=numeric_corpus, vocab=vocab)\n",
    "print('vectorized_corpus: ', repr(vectorized_corpus))"
   ]
  },
  {
   "cell_type": "code",
   "execution_count": 46,
   "metadata": {
    "deletable": false,
    "editable": false,
    "nbgrader": {
     "cell_type": "code",
     "checksum": "651c462916d694d8e0379ba99c8a618b",
     "grade": true,
     "grade_id": "cell-cc0dce607bb1d44f",
     "locked": true,
     "points": 1,
     "schema_version": 3,
     "solution": false
    }
   },
   "outputs": [],
   "source": [
    "from numpy.testing import assert_array_equal\n",
    "vocab = {('This',): 0, ('is',): 1, ('the',): 2, ('first',): 3, ('document.',): 4, ('This', 'is'): 5, ('is', 'the'): 6, ('the', 'first'): 7, ('first', 'document.'): 8, ('second',): 9, ('the', 'second'): 10, ('second', 'second'): 11, ('second', 'document.'): 12, ('And',): 13, ('third',): 14, ('one.',): 15, ('And', 'the'): 16, ('the', 'third'): 17, ('third', 'one.'): 18, ('Is',): 19, ('this',): 20, ('document?',): 21, ('Is', 'this'): 22, ('this', 'the'): 23, ('first', 'document?'): 24}\n",
    "document = Counter({0: 1, 1: 1, 2: 1, 3: 1, 4: 1, 5: 1, 6: 1, 7: 1, 8: 1})\n",
    "assert_array_equal(vectorize_document(numeric_document=document, vocab=vocab), [1., 1., 1., 1., 1., 1., 1., 1., 1., 0., 0., 0., 0., 0., 0., 0.,\n",
    "        0., 0., 0., 0., 0., 0., 0., 0., 0.])\n",
    "document = Counter({9: 2, 0: 1, 1: 1, 2: 1, 4: 1, 5: 1, 6: 1, 10: 1, 11: 1, 12: 1})\n",
    "assert_array_equal(vectorize_document(numeric_document=document, vocab=vocab), [1., 1., 1., 0., 1., 1., 1., 0., 0., 2., 1., 1., 1., 0., 0., 0.,\n",
    "        0., 0., 0., 0., 0., 0., 0., 0., 0.])\n",
    "document = Counter({13: 1, 2: 1, 14: 1, 15: 1, 16: 1, 17: 1, 18: 1})\n",
    "assert_array_equal(vectorize_document(numeric_document=document, vocab=vocab), [0., 0., 1., 0., 0., 0., 0., 0., 0., 0., 0., 0., 0., 1., 1., 1.,\n",
    "        1., 1., 1., 0., 0., 0., 0., 0., 0.])\n",
    "document = Counter({19: 1, 20: 1, 2: 1, 3: 1, 21: 1, 22: 1, 23: 1, 7: 1, 24: 1})\n",
    "assert_array_equal(vectorize_document(numeric_document=document, vocab=vocab), [0., 0., 1., 1., 0., 0., 0., 1., 0., 0., 0., 0., 0., 0., 0., 0.,\n",
    "        0., 0., 0., 1., 1., 1., 1., 1., 1.])"
   ]
  },
  {
   "cell_type": "code",
   "execution_count": 47,
   "metadata": {
    "deletable": false,
    "editable": false,
    "nbgrader": {
     "cell_type": "code",
     "checksum": "1f60908afc7efe10936af425d0e63274",
     "grade": true,
     "grade_id": "cell-85769bbf1ce7d981",
     "locked": true,
     "points": 1,
     "schema_version": 3,
     "solution": false
    }
   },
   "outputs": [],
   "source": [
    "# More hidden test cases are included in this cell\n"
   ]
  },
  {
   "cell_type": "markdown",
   "metadata": {
    "deletable": false,
    "editable": false,
    "nbgrader": {
     "cell_type": "markdown",
     "checksum": "df43b4ba8b7d3be4835d037b13df32ee",
     "grade": false,
     "grade_id": "cell-c46bb42e41bb9d45",
     "locked": true,
     "schema_version": 3,
     "solution": false
    }
   },
   "source": [
    "## Part 4: Text Classification"
   ]
  },
  {
   "cell_type": "markdown",
   "metadata": {
    "deletable": false,
    "editable": false,
    "nbgrader": {
     "cell_type": "markdown",
     "checksum": "57fa452bdfd6eaae5b4d7a6c82810675",
     "grade": false,
     "grade_id": "cell-93dfc66102f5e1ff",
     "locked": true,
     "schema_version": 3,
     "solution": false
    }
   },
   "source": [
    "In this section, we'll compare two different approaches for feature representation on a text classification task. We'll compare models trained with the BOW feture representation (Part 3) and the word embeddings represntation (Part 2) on the task of text classification for The AG_NEWS dataset. The AG_News dataset has four labels and therefore the number of classes is four.\n",
    "\n",
    "1. World\n",
    "2. Sports\n",
    "3. Business\n",
    "4. Sci/Tec\n",
    "\n",
    "The cells below will load the dataset using the torchtext module, and split the test split into 50% for validation and 50% for testing. The torchtext module loads the data in a numeric form, where each token is replaced with an Integer ID, additionaly, we store the data in a raw text format by mapping these integer IDs back to the original tokens (see the train_corpus, and test_corpus variables)."
   ]
  },
  {
   "cell_type": "code",
   "execution_count": 48,
   "metadata": {
    "deletable": false,
    "editable": false,
    "nbgrader": {
     "cell_type": "code",
     "checksum": "63c8054f4880bd82cd15f1bb467f3098",
     "grade": false,
     "grade_id": "cell-9802e0f759d13f67",
     "locked": true,
     "schema_version": 3,
     "solution": false
    }
   },
   "outputs": [
    {
     "name": "stdout",
     "output_type": "stream",
     "text": [
      "Building Vocab based on ag_news/train.csv\n"
     ]
    },
    {
     "name": "stderr",
     "output_type": "stream",
     "text": [
      "10000lines [00:00, 10004.61lines/s]\n"
     ]
    },
    {
     "name": "stdout",
     "output_type": "stream",
     "text": [
      "Vocab has 29292 entries\n",
      "Creating training data\n",
      "Creating testing data\n",
      "10000\n",
      "7600\n"
     ]
    }
   ],
   "source": [
    "import os\n",
    "import torch\n",
    "import torchtext\n",
    "from torchtext.datasets import text_classification\n",
    "from torchtext.vocab import build_vocab_from_iterator\n",
    "from torch.utils.data.dataset import random_split\n",
    "from torchtext.data.utils import get_tokenizer\n",
    "import io\n",
    "import numpy as np\n",
    "from torchtext.utils import unicode_csv_reader\n",
    "from torchtext.data.utils import ngrams_iterator\n",
    "from torchtext.vocab import Vocab\n",
    "from torchtext.datasets.text_classification import TextClassificationDataset\n",
    "\n",
    "# Fix random-seed for reproducability \n",
    "np.random.seed(31415)\n",
    "torch.manual_seed(0)\n",
    "\n",
    "def _csv_iterator(data_path, ngrams, yield_cls=False):\n",
    "    tokenizer = get_tokenizer(\"basic_english\")\n",
    "    with io.open(data_path, encoding=\"utf8\") as f:\n",
    "        reader = unicode_csv_reader(f)\n",
    "        for row in reader:\n",
    "            tokens = ' '.join(row[1:])\n",
    "            tokens = tokenizer(tokens)\n",
    "            if yield_cls:\n",
    "                yield int(row[0]) - 1, ngrams_iterator(tokens, ngrams)\n",
    "            else:\n",
    "                yield ngrams_iterator(tokens, ngrams)\n",
    "\n",
    "def _create_data_from_iterator(vocab, iterator, include_unk):\n",
    "    data = []\n",
    "    labels = []\n",
    "    for cls, tokens in iterator:\n",
    "        if include_unk:\n",
    "            tokens = torch.tensor([vocab[token] for token in tokens])\n",
    "        else:\n",
    "            token_ids = list(filter(lambda x: x is not Vocab.UNK, [vocab[token]\n",
    "                                    for token in tokens]))\n",
    "            tokens = torch.tensor(token_ids)\n",
    "        if len(tokens) == 0:\n",
    "            logging.info('Row contains no tokens.')\n",
    "        data.append((cls, tokens))\n",
    "        labels.append(cls)\n",
    "    return data, set(labels)\n",
    "                \n",
    "def setup_datasets(train_csv_path, test_csv_path, ngrams=2, include_unk=False):\n",
    "    print('Building Vocab based on {}'.format(train_csv_path))\n",
    "    vocab = build_vocab_from_iterator(_csv_iterator(train_csv_path, ngrams))\n",
    "    print('Vocab has {} entries'.format(len(vocab)))\n",
    "    print('Creating training data')\n",
    "    train_data, train_labels = _create_data_from_iterator(\n",
    "        vocab, _csv_iterator(train_csv_path, ngrams, yield_cls=True), include_unk)\n",
    "    print('Creating testing data')\n",
    "    test_data, test_labels = _create_data_from_iterator(\n",
    "        vocab, _csv_iterator(test_csv_path, ngrams, yield_cls=True), include_unk)\n",
    "    if len(train_labels ^ test_labels) > 0:\n",
    "        raise ValueError(\"Training and test labels don't match\")\n",
    "    return (TextClassificationDataset(vocab, train_data, train_labels),\n",
    "            TextClassificationDataset(vocab, test_data, test_labels))\n",
    "\n",
    "\n",
    "train_dataset, test_dataset = setup_datasets(train_csv_path='ag_news/train.csv', test_csv_path='ag_news/test.csv',ngrams=1)\n",
    "\n",
    "# Cut some of the data\n",
    "print(len(train_dataset))\n",
    "print(len(test_dataset))\n",
    "\n",
    "test_len = int(len(test_dataset) * 0.5)\n",
    "test_dataset, valid_dataset = \\\n",
    "    random_split(test_dataset, [test_len, len(test_dataset) - test_len])"
   ]
  },
  {
   "cell_type": "code",
   "execution_count": 49,
   "metadata": {},
   "outputs": [
    {
     "name": "stdout",
     "output_type": "stream",
     "text": [
      "vocab size:  29292\n",
      "creating corpus...\n",
      "done creating training / testing corpus!\n"
     ]
    }
   ],
   "source": [
    "type(train_dataset[0][1])\n",
    "vocab = train_dataset.get_vocab()\n",
    "print('vocab size: ', len(vocab))\n",
    "itos = vocab.itos\n",
    "print('creating corpus...')\n",
    "train_corpus = [' '.join([itos[token] for token in sample[1]]) for sample in train_dataset]\n",
    "train_targets = [sample[0] for sample in train_dataset]\n",
    "test_corpus = [' '.join([itos[token] for token in sample[1]])for sample in test_dataset]\n",
    "test_targets = [sample[0] for sample in test_dataset]\n",
    "print('done creating training / testing corpus!')"
   ]
  },
  {
   "cell_type": "markdown",
   "metadata": {
    "deletable": false,
    "editable": false,
    "nbgrader": {
     "cell_type": "markdown",
     "checksum": "5ac241f0b72241ab51f8c0daa93a649a",
     "grade": false,
     "grade_id": "cell-bc4990e48a928d4f",
     "locked": true,
     "schema_version": 3,
     "solution": false
    }
   },
   "source": [
    "## Linear Classification Model with BOW representation\n",
    "\n",
    "After loading the dataset, we'll first experiment with training a linear model trained on a BOW feature representation. We can use the feature extraction pipeline we implemented in Part 3 for this task, however, since the vocabulary of the AG-News dataset is much larger, it's better to use the tools from the Sklearn package to handle the BOW feature extraction part, as it supports sparse data structures that's much more memory efficient than our implementation in Part 3.\n",
    "\n",
    "The cell below trains two classification models. A bag-of-unigram model trained only on unigram features, and a bag-of-bi-grams model that includes bi-gram features as well. Both of these  are linear logistic regression models. The CountVectorizer object extracts the BOW features and computes the vocabulary, and the LogisticRegression classifier is then trained on top of this feature representation.\n"
   ]
  },
  {
   "cell_type": "code",
   "execution_count": 50,
   "metadata": {},
   "outputs": [
    {
     "name": "stdout",
     "output_type": "stream",
     "text": [
      "Training a uni-gram model..\n"
     ]
    },
    {
     "name": "stderr",
     "output_type": "stream",
     "text": [
      "C:\\Users\\evars\\Anaconda3\\lib\\site-packages\\sklearn\\linear_model\\logistic.py:947: ConvergenceWarning: lbfgs failed to converge. Increase the number of iterations.\n",
      "  \"of iterations.\", ConvergenceWarning)\n"
     ]
    },
    {
     "name": "stdout",
     "output_type": "stream",
     "text": [
      "Accuracy: 0.8581578947368421\n",
      "Training a bi-gram model...\n"
     ]
    },
    {
     "name": "stderr",
     "output_type": "stream",
     "text": [
      "C:\\Users\\evars\\Anaconda3\\lib\\site-packages\\sklearn\\linear_model\\logistic.py:947: ConvergenceWarning: lbfgs failed to converge. Increase the number of iterations.\n",
      "  \"of iterations.\", ConvergenceWarning)\n"
     ]
    },
    {
     "name": "stdout",
     "output_type": "stream",
     "text": [
      "Accuracy:  0.861578947368421\n"
     ]
    }
   ],
   "source": [
    "from sklearn.pipeline import Pipeline\n",
    "from sklearn.linear_model import LogisticRegression\n",
    "from sklearn.feature_extraction.text import CountVectorizer\n",
    "\n",
    "min_df = 10\n",
    "print('Training a uni-gram model..')\n",
    "text_clf = Pipeline([('vect', CountVectorizer(min_df=min_df)), ('clf', LogisticRegression(solver='lbfgs', multi_class='auto')),])\n",
    "text_clf.fit(train_corpus, train_targets)  \n",
    "predicted = text_clf.predict(test_corpus)\n",
    "print('Accuracy:', np.mean(predicted == test_targets))     \n",
    "\n",
    "print('Training a bi-gram model...')\n",
    "text_clf = Pipeline([('vect', CountVectorizer(ngram_range=(1, 2), token_pattern=r'\\b\\w+\\b', min_df=min_df)), ('clf', LogisticRegression(solver='lbfgs', multi_class='auto')),])\n",
    "text_clf.fit(train_corpus, train_targets)  \n",
    "predicted = text_clf.predict(test_corpus)\n",
    "print('Accuracy: ', np.mean(predicted == test_targets))"
   ]
  },
  {
   "cell_type": "markdown",
   "metadata": {
    "deletable": false,
    "editable": false,
    "nbgrader": {
     "cell_type": "markdown",
     "checksum": "f3772f1e876abf16f273e9c0579334b9",
     "grade": false,
     "grade_id": "cell-daac3a290644b288",
     "locked": true,
     "schema_version": 3,
     "solution": false
    }
   },
   "source": [
    "We can see that the bi-gram model outperforms the uni-gram model. The accuracy of the uni-gram model on the test split is 85.81%, which is outperformed by the 86.16% accuracy from the bi-gram model."
   ]
  },
  {
   "cell_type": "markdown",
   "metadata": {
    "deletable": false,
    "editable": false,
    "nbgrader": {
     "cell_type": "markdown",
     "checksum": "32bd2e4c70d6840a7e5b681a8419764e",
     "grade": false,
     "grade_id": "cell-40911bb7a4dffe1f",
     "locked": true,
     "schema_version": 3,
     "solution": false
    }
   },
   "source": [
    "## Question 4.1: Feature Importance (2 Points)\n",
    "\n",
    "One advantage of using a BOW representation with a linear logistic regression model is that we can easily interpret the importance of difference features for the classification task. One way of doing this is by examining the weights of the learned model, and identifying which of these weights were assigned a higher value. \n",
    "\n",
    "You're required to implement the \"get_feature_importance\" function below. The function takes as input the trained Sklearn pipeline from the previous cell, together with a Class ID (class_id) representing the class ID we want to study. The function returns a list of the most important ten features. The feature importance part is already pre-computed in the code snippet below, you're required to sort these importance list in assending order, map the features back to the original text representation, and return a list of most important ten features sorted in ascending order. Please refer to the test cases below for some examples."
   ]
  },
  {
   "cell_type": "code",
   "execution_count": 51,
   "metadata": {
    "deletable": false,
    "nbgrader": {
     "cell_type": "code",
     "checksum": "addb21d2f87c5b8aaa21bc5bb8eb7993",
     "grade": false,
     "grade_id": "cell-3efe217529273405",
     "locked": false,
     "schema_version": 3,
     "solution": true
    }
   },
   "outputs": [
    {
     "name": "stdout",
     "output_type": "stream",
     "text": [
      "Feature sorted by importance: \n",
      "7656\n",
      "['killed', 'game', 'leader', 'iraq', 'indonesia', 'peace', 'capital', 'nuclear', 'iraqi', 'party']\n"
     ]
    }
   ],
   "source": [
    "def get_feature_importance(pipeline, class_id):\n",
    "    classifier = pipeline['clf']\n",
    "    vectorizer = pipeline['vect']\n",
    "    weights = abs(classifier.coef_[class_id])\n",
    "    feature_importance = 100.0 * (weights / weights.max())\n",
    "    feat_map = []\n",
    "    # YOUR CODE HERE\n",
    "    \n",
    "    print(len(feature_importance))\n",
    "    \n",
    "    new = dict([[i,j] for j,i in vectorizer.vocabulary_.items()])\n",
    "    \n",
    "    feat_imp = sorted(feature_importance, reverse=True)\n",
    "    feat_imp = (feat_imp[0:10])\n",
    "    feat_imp.reverse()\n",
    "\n",
    "    for value in feat_imp:\n",
    "        feat_map.append(new[np.where(feature_importance == value)[0][0]])\n",
    "    #print(new)\n",
    "    return feat_map\n",
    "    #raise NotImplementedError()\n",
    "    \n",
    "print('Feature sorted by importance: ')\n",
    "print(get_feature_importance(pipeline=text_clf, class_id=0))"
   ]
  },
  {
   "cell_type": "code",
   "execution_count": 52,
   "metadata": {
    "deletable": false,
    "editable": false,
    "nbgrader": {
     "cell_type": "code",
     "checksum": "4d78f32d67dc50dce56a1d3b99a6d9e1",
     "grade": true,
     "grade_id": "cell-6a1afacbebd3af64",
     "locked": true,
     "points": 1,
     "schema_version": 3,
     "solution": false
    }
   },
   "outputs": [
    {
     "name": "stdout",
     "output_type": "stream",
     "text": [
      "7656\n",
      "7656\n"
     ]
    }
   ],
   "source": [
    "test_case = TestCase()\n",
    "test_case.assertListEqual(get_feature_importance(pipeline=text_clf, class_id=0), ['killed', 'game', 'leader', 'iraq', 'indonesia', 'peace', 'capital', 'nuclear', 'iraqi', 'party'])\n",
    "test_case.assertListEqual(get_feature_importance(pipeline=text_clf, class_id=1), ['manager', 'players', 'sports', 'teams', 'team', 'olympic', 'baseball', 'football', 'coach', 'cup'])"
   ]
  },
  {
   "cell_type": "code",
   "execution_count": 53,
   "metadata": {
    "deletable": false,
    "editable": false,
    "nbgrader": {
     "cell_type": "code",
     "checksum": "08d6a154af850443edf493e8e2e4a5ce",
     "grade": true,
     "grade_id": "cell-14067f697c00d5f2",
     "locked": true,
     "points": 1,
     "schema_version": 3,
     "solution": false
    }
   },
   "outputs": [],
   "source": [
    "# More hidden test cases are included in this cell\n"
   ]
  },
  {
   "cell_type": "markdown",
   "metadata": {
    "deletable": false,
    "editable": false,
    "nbgrader": {
     "cell_type": "markdown",
     "checksum": "c69d722a25a31329debde4a518a81682",
     "grade": false,
     "grade_id": "cell-249887c6b0197c26",
     "locked": true,
     "schema_version": 3,
     "solution": false
    }
   },
   "source": [
    "# Question 4.2: Word Embeddings + Linear Neural Model (2 Points)"
   ]
  },
  {
   "cell_type": "markdown",
   "metadata": {
    "deletable": false,
    "editable": false,
    "nbgrader": {
     "cell_type": "markdown",
     "checksum": "d00f8d31efac9b885320c8c4ff5105e1",
     "grade": false,
     "grade_id": "cell-ec975e650fe4891a",
     "locked": true,
     "schema_version": 3,
     "solution": false
    }
   },
   "source": [
    "We now experiment with the word embeddings feature representation (Part 2) using two different neural model architectures. We start with a linear model in this section, and then experiment with a deeper model architecture in the following section.\n",
    "\n",
    "You're required to update the \"fc\" variable below to include a linear layer instead of the null value. The linear model should have input dimension of size \"embed_dim\", and an output dimension of size \"num_class\"."
   ]
  },
  {
   "cell_type": "code",
   "execution_count": 54,
   "metadata": {
    "deletable": false,
    "nbgrader": {
     "cell_type": "code",
     "checksum": "bf533ec22163c74e64ae1927689758b7",
     "grade": false,
     "grade_id": "cell-22c66773db6a14a4",
     "locked": false,
     "schema_version": 3,
     "solution": true
    }
   },
   "outputs": [],
   "source": [
    "import torch\n",
    "import torch.nn as nn\n",
    "import torch.nn.functional as F\n",
    "\n",
    "class LinearAverageEmbeddingModel(nn.Module):\n",
    "    def __init__(self, vocab_size, embed_dim, num_class):\n",
    "        super().__init__()\n",
    "        self.embedding = nn.EmbeddingBag(vocab_size, embed_dim, sparse=True)\n",
    "        self.fc = None\n",
    "        # YOUR CODE HERE\n",
    "        \n",
    "        self.fc = nn.Linear(embed_dim, num_class)\n",
    "        \n",
    "        #raise NotImplementedError()\n",
    "        self.init_weights()\n",
    "\n",
    "    def init_weights(self):\n",
    "        initrange = 0.5\n",
    "        self.embedding.weight.data.uniform_(-initrange, initrange)\n",
    "        self.fc.weight.data.uniform_(-initrange, initrange)\n",
    "        self.fc.bias.data.zero_()\n",
    "\n",
    "    def forward(self, text, offsets):\n",
    "        embedded = self.embedding(text, offsets)\n",
    "        return self.fc(embedded)"
   ]
  },
  {
   "cell_type": "code",
   "execution_count": 55,
   "metadata": {
    "deletable": false,
    "editable": false,
    "nbgrader": {
     "cell_type": "code",
     "checksum": "5e28361b1395b6b9074018e30c90dd07",
     "grade": true,
     "grade_id": "cell-5602288cac03eeba",
     "locked": true,
     "points": 1,
     "schema_version": 3,
     "solution": false
    }
   },
   "outputs": [],
   "source": [
    "test_case = TestCase()\n",
    "model = LinearAverageEmbeddingModel(vocab_size=10, embed_dim=25, num_class=4)\n",
    "number_of_parameters =  sum(p.numel() for p in model.parameters())\n",
    "test_case.assertEqual(number_of_parameters, 354)\n",
    "model = LinearAverageEmbeddingModel(vocab_size=105, embed_dim=300, num_class=2)\n",
    "number_of_parameters =  sum(p.numel() for p in model.parameters())\n",
    "test_case.assertEqual(number_of_parameters, 32102)"
   ]
  },
  {
   "cell_type": "code",
   "execution_count": 56,
   "metadata": {
    "deletable": false,
    "editable": false,
    "nbgrader": {
     "cell_type": "code",
     "checksum": "6a31d009b126643ac76c469cb7531029",
     "grade": true,
     "grade_id": "cell-e8bd9c2517065a8c",
     "locked": true,
     "points": 1,
     "schema_version": 3,
     "solution": false
    }
   },
   "outputs": [],
   "source": [
    "# More hidden test cases are included in this cell\n"
   ]
  },
  {
   "cell_type": "markdown",
   "metadata": {},
   "source": [
    "The cells below provide some utility function for traning the neural model. We use a batch size of 16, an embedding dimension of size 300, and we train for 5 epochs."
   ]
  },
  {
   "cell_type": "code",
   "execution_count": 57,
   "metadata": {},
   "outputs": [
    {
     "name": "stdout",
     "output_type": "stream",
     "text": [
      "Number of classes:  4\n",
      "Labels:  {0, 1, 2, 3}\n"
     ]
    }
   ],
   "source": [
    "VOCAB_SIZE = len(train_dataset.get_vocab())\n",
    "EMBED_DIM = 300\n",
    "NUM_CLASS = len(train_dataset.get_labels())\n",
    "print('Number of classes: ', NUM_CLASS)\n",
    "print('Labels: ', train_dataset.get_labels())"
   ]
  },
  {
   "cell_type": "code",
   "execution_count": 58,
   "metadata": {},
   "outputs": [],
   "source": [
    "def generate_batch(batch):\n",
    "    label = torch.tensor([entry[0] for entry in batch])\n",
    "    text = [entry[1] for entry in batch]\n",
    "    offsets = [0] + [len(entry) for entry in text]\n",
    "    offsets = torch.tensor(offsets[:-1]).cumsum(dim=0)\n",
    "    text = torch.cat(text)\n",
    "    return text, offsets, label"
   ]
  },
  {
   "cell_type": "code",
   "execution_count": 59,
   "metadata": {},
   "outputs": [],
   "source": [
    "from torch.utils.data import DataLoader\n",
    "\n",
    "def train_func(sub_train_, model, optimizer, scheduler, criterion, batch_size):\n",
    "    # Train the model\n",
    "    train_loss = 0\n",
    "    train_acc = 0\n",
    "    data = DataLoader(sub_train_, batch_size=batch_size, shuffle=True,\n",
    "                      collate_fn=generate_batch)\n",
    "    for i, (text, offsets, cls) in enumerate(data):\n",
    "        optimizer.zero_grad()\n",
    "        text, offsets, cls = text.to(device), offsets.to(device), cls.to(device)\n",
    "        output = model(text, offsets)\n",
    "        loss = criterion(output, cls)\n",
    "        train_loss += loss.item()\n",
    "        loss.backward()\n",
    "        optimizer.step()\n",
    "        train_acc += (output.argmax(1) == cls).sum().item()        \n",
    "    # Adjust the learning rate\n",
    "    scheduler.step()\n",
    "    \n",
    "    return train_loss / len(sub_train_), train_acc / len(sub_train_)\n",
    "\n",
    "def test(data_, model, batch_size, criterion):\n",
    "    loss = 0\n",
    "    acc = 0\n",
    "    data = DataLoader(data_, batch_size=batch_size, collate_fn=generate_batch)\n",
    "    for text, offsets, cls in data:\n",
    "        text, offsets, cls = text.to(device), offsets.to(device), cls.to(device)\n",
    "        with torch.no_grad():\n",
    "            output = model(text, offsets)\n",
    "            loss = criterion(output, cls)\n",
    "            loss += loss.item()\n",
    "            acc += (output.argmax(1) == cls).sum().item()\n",
    "\n",
    "    return loss / len(data_), acc / len(data_)"
   ]
  },
  {
   "cell_type": "code",
   "execution_count": 60,
   "metadata": {},
   "outputs": [],
   "source": [
    "import torchtext\n",
    "from torchtext.datasets import text_classification\n",
    "NGRAMS = 1\n",
    "import os\n",
    "# Always using a CPU for reproducability \n",
    "device = torch.device('cpu')"
   ]
  },
  {
   "cell_type": "code",
   "execution_count": 61,
   "metadata": {},
   "outputs": [
    {
     "name": "stdout",
     "output_type": "stream",
     "text": [
      "model: \n",
      "LinearAverageEmbeddingModel(\n",
      "  (embedding): EmbeddingBag(29292, 300, mode=mean)\n",
      "  (fc): Linear(in_features=300, out_features=4, bias=True)\n",
      ")\n",
      "Epoch: 0\n",
      "\tLoss: 0.0003(train)\t|\tAcc: 26.7%(train)\n",
      "\tLoss: 0.0008(valid)\t|\tAcc: 25.9%(valid)\n",
      "\tLoss: 0.0008(test)\t|\tAcc: 27.2%(test)\n",
      "Epoch: 1  | time in 0 minutes, 6 seconds\n",
      "\tLoss: 0.0455(train)\t|\tAcc: 71.6%(train)\n",
      "\tLoss: 0.0003(valid)\t|\tAcc: 80.1%(valid)\n",
      "Epoch: 2  | time in 0 minutes, 5 seconds\n",
      "\tLoss: 0.0209(train)\t|\tAcc: 88.5%(train)\n",
      "\tLoss: 0.0003(valid)\t|\tAcc: 82.6%(valid)\n",
      "Epoch: 3  | time in 0 minutes, 5 seconds\n",
      "\tLoss: 0.0134(train)\t|\tAcc: 93.2%(train)\n",
      "\tLoss: 0.0001(valid)\t|\tAcc: 85.8%(valid)\n",
      "Epoch: 4  | time in 0 minutes, 5 seconds\n",
      "\tLoss: 0.0085(train)\t|\tAcc: 95.7%(train)\n",
      "\tLoss: 0.0001(valid)\t|\tAcc: 86.4%(valid)\n",
      "Epoch: 5  | time in 0 minutes, 5 seconds\n",
      "\tLoss: 0.0057(train)\t|\tAcc: 97.5%(train)\n",
      "\tLoss: 0.0001(valid)\t|\tAcc: 86.2%(valid)\n",
      "\tLoss: 0.0001(test)\t|\tAcc: 86.6%(test)\n"
     ]
    },
    {
     "data": {
      "text/plain": [
       "0.8655263157894737"
      ]
     },
     "execution_count": 61,
     "metadata": {},
     "output_type": "execute_result"
    }
   ],
   "source": [
    "import time\n",
    "import random \n",
    "\n",
    "def seed_everything(seed=1234):                                                  \n",
    "   random.seed(seed)                                                            \n",
    "   torch.manual_seed(seed)                                                      \n",
    "   torch.cuda.manual_seed_all(seed)                                             \n",
    "   np.random.seed(seed)                                                         \n",
    "   os.environ['PYTHONHASHSEED'] = str(seed)                                     \n",
    "   torch.backends.cudnn.deterministic = True                                    \n",
    "   torch.backends.cudnn.benchmark = False\n",
    "\n",
    "def train_model(model, lr, n_epochs, batch_size, ):\n",
    "    print('model: ')\n",
    "    print(model)\n",
    "    min_valid_loss = float('inf')\n",
    "\n",
    "    criterion = torch.nn.CrossEntropyLoss().to(device)\n",
    "    optimizer = torch.optim.SGD(model.parameters(), lr=lr)\n",
    "    scheduler = torch.optim.lr_scheduler.StepLR(optimizer, 1, gamma=0.9)\n",
    "\n",
    "    print('Epoch: 0')\n",
    "    train_loss, train_acc = test(train_dataset, model=model, batch_size=batch_size, criterion=criterion)\n",
    "    valid_loss, valid_acc = test(valid_dataset, model=model, batch_size=batch_size, criterion=criterion)\n",
    "    test_loss, test_acc = test(test_dataset, model=model, batch_size=batch_size, criterion=criterion)\n",
    "    print(f'\\tLoss: {train_loss:.4f}(train)\\t|\\tAcc: {train_acc * 100:.1f}%(train)')\n",
    "    print(f'\\tLoss: {valid_loss:.4f}(valid)\\t|\\tAcc: {valid_acc * 100:.1f}%(valid)')\n",
    "    print(f'\\tLoss: { test_loss:.4f}(test)\\t|\\tAcc: { test_acc * 100:.1f}%(test)')\n",
    "\n",
    "    for epoch in range(n_epochs):\n",
    "        start_time = time.time()\n",
    "        train_loss, train_acc = train_func(train_dataset, model=model, optimizer=optimizer, scheduler=scheduler, \n",
    "                                           criterion=criterion, batch_size=batch_size)\n",
    "        valid_loss, valid_acc = test(valid_dataset, model=model, batch_size=batch_size, criterion=criterion)\n",
    "\n",
    "        secs = int(time.time() - start_time)\n",
    "        mins = secs / 60\n",
    "        secs = secs % 60\n",
    "\n",
    "        print('Epoch: %d' %(epoch + 1), \" | time in %d minutes, %d seconds\" %(mins, secs))\n",
    "        print(f'\\tLoss: {train_loss:.4f}(train)\\t|\\tAcc: {train_acc * 100:.1f}%(train)')\n",
    "        print(f'\\tLoss: {valid_loss:.4f}(valid)\\t|\\tAcc: {valid_acc * 100:.1f}%(valid)')\n",
    "        \n",
    "    test_loss, test_acc = test(test_dataset, model=model, batch_size=batch_size, criterion=criterion)\n",
    "    print(f'\\tLoss: { test_loss:.4f}(test)\\t|\\tAcc: { test_acc * 100:.1f}%(test)')\n",
    "    return test_acc\n",
    "\n",
    "seed_everything()\n",
    "linear_model = LinearAverageEmbeddingModel(VOCAB_SIZE, EMBED_DIM, NUM_CLASS).to(device)\n",
    "train_model(model=linear_model, lr=4, n_epochs=5, batch_size=16)"
   ]
  },
  {
   "cell_type": "markdown",
   "metadata": {
    "deletable": false,
    "editable": false,
    "nbgrader": {
     "cell_type": "markdown",
     "checksum": "99e76c1e84827cb8deb1ae7dbe83c8da",
     "grade": false,
     "grade_id": "cell-7a68b918ba04eaa7",
     "locked": true,
     "schema_version": 3,
     "solution": false
    }
   },
   "source": [
    "# Question 4.3: Deep Averaging Network (DAN) Model (2 Points)\n",
    "\n",
    "We now experiment with a deeper model architecture. In this section we'll implement a Deep Average Network (DAN). In contrast to the previous neural model that used only a single linear layer, the DAN model will have two linear layers: fc, and fc_2. The first linear layer (fc) will take an input of size embed_dim, and outputs a representation of size hidden_dim. The second linear layer will take an input of size hidden_dim, and map it to an ouput of size num_class. \n",
    "\n",
    "You're required to update the fc, fc_2 and embedding attributes in the code snippet blow to match the model description in the paragraph above."
   ]
  },
  {
   "cell_type": "code",
   "execution_count": 62,
   "metadata": {
    "deletable": false,
    "nbgrader": {
     "cell_type": "code",
     "checksum": "447318c97ebdfe002a915da0c095623e",
     "grade": false,
     "grade_id": "cell-2228aa6484dfe6ad",
     "locked": false,
     "schema_version": 3,
     "solution": true
    }
   },
   "outputs": [],
   "source": [
    "class DanModel(nn.Module):\n",
    "    def __init__(self, vocab_size, embed_dim, hidden_dim, num_class):\n",
    "        super().__init__()\n",
    "        self.embedding = None\n",
    "        self.fc = None\n",
    "        self.fc_2 = None\n",
    "        # YOUR CODE HERE\n",
    "        \n",
    "        self.embedding = nn.EmbeddingBag(vocab_size, embed_dim, sparse=True)\n",
    "        self.fc = nn.Linear(embed_dim, hidden_dim)\n",
    "        self.fc_2 = nn.Linear(hidden_dim, num_class)\n",
    "        \n",
    "        #raise NotImplementedError()\n",
    "        self.init_weights()\n",
    "\n",
    "    def init_weights(self):\n",
    "        initrange = 0.5\n",
    "        self.embedding.weight.data.uniform_(-initrange, initrange)\n",
    "        self.fc.weight.data.uniform_(-initrange, initrange)\n",
    "        self.fc.bias.data.zero_()\n",
    "        self.fc_2.weight.data.uniform_(-initrange, initrange)\n",
    "        self.fc_2.bias.data.zero_()\n",
    "\n",
    "    def forward(self, text, offsets):\n",
    "        embedded = self.embedding(text, offsets)\n",
    "        linear_1_output = self.fc(embedded)\n",
    "        activation_output = F.relu(linear_1_output)\n",
    "        return self.fc_2(activation_output)"
   ]
  },
  {
   "cell_type": "code",
   "execution_count": 63,
   "metadata": {
    "deletable": false,
    "editable": false,
    "nbgrader": {
     "cell_type": "code",
     "checksum": "15e8b1ec8cc1cae0fc54c1341e58014d",
     "grade": true,
     "grade_id": "cell-91463c5ff1602f51",
     "locked": true,
     "points": 1,
     "schema_version": 3,
     "solution": false
    }
   },
   "outputs": [],
   "source": [
    "test_case = TestCase()\n",
    "model = DanModel(vocab_size=5, embed_dim=300, hidden_dim=10, num_class=4)\n",
    "number_of_parameters =  sum(p.numel() for p in model.parameters())\n",
    "test_case.assertEqual(number_of_parameters, 4554)\n",
    "model = DanModel(vocab_size=8372, embed_dim=25, hidden_dim=15, num_class=2)\n",
    "number_of_parameters =  sum(p.numel() for p in model.parameters())\n",
    "test_case.assertEqual(number_of_parameters, 209722)"
   ]
  },
  {
   "cell_type": "code",
   "execution_count": 64,
   "metadata": {
    "deletable": false,
    "editable": false,
    "nbgrader": {
     "cell_type": "code",
     "checksum": "1425d4cbca7124fd6b56c70602aed33f",
     "grade": true,
     "grade_id": "cell-c8402810febee2b9",
     "locked": true,
     "points": 1,
     "schema_version": 3,
     "solution": false
    }
   },
   "outputs": [],
   "source": [
    "# More hidden test cases are included in this cell\n"
   ]
  },
  {
   "cell_type": "code",
   "execution_count": 65,
   "metadata": {},
   "outputs": [
    {
     "name": "stdout",
     "output_type": "stream",
     "text": [
      "model: \n",
      "DanModel(\n",
      "  (embedding): EmbeddingBag(29292, 300, mode=mean)\n",
      "  (fc): Linear(in_features=300, out_features=100, bias=True)\n",
      "  (fc_2): Linear(in_features=100, out_features=4, bias=True)\n",
      ")\n",
      "Epoch: 0\n",
      "\tLoss: 0.0003(train)\t|\tAcc: 24.3%(train)\n",
      "\tLoss: 0.0007(valid)\t|\tAcc: 23.2%(valid)\n",
      "\tLoss: 0.0007(test)\t|\tAcc: 22.9%(test)\n",
      "Epoch: 1  | time in 0 minutes, 6 seconds\n",
      "\tLoss: 0.0713(train)\t|\tAcc: 51.8%(train)\n",
      "\tLoss: 0.0005(valid)\t|\tAcc: 67.0%(valid)\n",
      "Epoch: 2  | time in 0 minutes, 6 seconds\n",
      "\tLoss: 0.0339(train)\t|\tAcc: 80.5%(train)\n",
      "\tLoss: 0.0004(valid)\t|\tAcc: 82.2%(valid)\n",
      "Epoch: 3  | time in 0 minutes, 7 seconds\n",
      "\tLoss: 0.0221(train)\t|\tAcc: 87.4%(train)\n",
      "\tLoss: 0.0004(valid)\t|\tAcc: 84.5%(valid)\n",
      "Epoch: 4  | time in 0 minutes, 5 seconds\n",
      "\tLoss: 0.0152(train)\t|\tAcc: 91.4%(train)\n",
      "\tLoss: 0.0002(valid)\t|\tAcc: 83.9%(valid)\n",
      "Epoch: 5  | time in 0 minutes, 6 seconds\n",
      "\tLoss: 0.0094(train)\t|\tAcc: 94.5%(train)\n",
      "\tLoss: 0.0004(valid)\t|\tAcc: 83.1%(valid)\n",
      "\tLoss: 0.0003(test)\t|\tAcc: 83.1%(test)\n"
     ]
    },
    {
     "data": {
      "text/plain": [
       "0.8313157894736842"
      ]
     },
     "execution_count": 65,
     "metadata": {},
     "output_type": "execute_result"
    }
   ],
   "source": [
    "import time\n",
    "HIDDEN_DIM = 100\n",
    "min_valid_loss = float('inf')\n",
    "\n",
    "seed_everything()\n",
    "dan_model = DanModel(VOCAB_SIZE, EMBED_DIM, HIDDEN_DIM, NUM_CLASS).to(device)\n",
    "train_model(model=dan_model, lr=2.0, n_epochs=5, batch_size=16)"
   ]
  },
  {
   "cell_type": "markdown",
   "metadata": {
    "deletable": false,
    "editable": false,
    "nbgrader": {
     "cell_type": "markdown",
     "checksum": "12c7423d99a2355d7bc3d63c85d0aae2",
     "grade": false,
     "grade_id": "cell-64717780f479022e",
     "locked": true,
     "schema_version": 3,
     "solution": false
    }
   },
   "source": [
    "## Question 4.4: Statistical Significance Testing (2 Points)\n",
    "\n",
    "We now use the McNemar’s test to compare the two Machine learning classifier we've trained: the BoW model with bi-gram features, and the Deep Averaging Network (DAN) model. The test determines if the DAN model yields statistically significant differences to the vanilla BOW representation (see eg http://citeseer.ist.psu.edu/viewdoc/summary?doi=10.1.1.37.3325, https://machinelearningmastery.com/mcnemars-test-for-machine-learning/)\n",
    "\n",
    "You're required to implement the \"compute_contingency_table\" function. This function takes as input prediction from the BOW model and the DAN neural model, and returns the contingency table for these predictions. Please return a 2D 2x2 numpy array, where rows correspond to BOW predictions, and columns correspond to the neural predictions."
   ]
  },
  {
   "cell_type": "code",
   "execution_count": 66,
   "metadata": {
    "deletable": false,
    "nbgrader": {
     "cell_type": "code",
     "checksum": "d972b961e62bc3ab52e73217a4a0d94e",
     "grade": false,
     "grade_id": "cell-bfeeece9988acb25",
     "locked": false,
     "schema_version": 3,
     "solution": true
    }
   },
   "outputs": [
    {
     "name": "stdout",
     "output_type": "stream",
     "text": [
      "contingency_table: \n",
      "[[913.  13.  35.   2.]\n",
      " [ 54. 911.   5.   0.]\n",
      " [ 55.  19. 812.  31.]\n",
      " [107.  51. 135. 657.]]\n",
      "(4, 4)\n",
      "Different proportions of errors (reject H0)\n"
     ]
    }
   ],
   "source": [
    "import scipy\n",
    "from statsmodels.stats.contingency_tables import mcnemar\n",
    "\n",
    "def compute_contingency_table(bow_prediction, neural_prediction):\n",
    "    # YOUR CODE HERE\n",
    "    \n",
    "    #print(len(bow_prediction))\n",
    "    #print(len(neural_prediction))\n",
    "    \n",
    "    \n",
    "    z = (len(set(neural_prediction)))\n",
    "    \n",
    "    contingency_table = np.zeros((z, z))\n",
    "    \n",
    "    for i in range(0, len(bow_prediction)):\n",
    "        contingency_table[neural_prediction[i]][bow_prediction[i]] = contingency_table[neural_prediction[i]][bow_prediction[i]]+1 #1\n",
    "    \n",
    "    \n",
    "    return(contingency_table.T)\n",
    "    #raise NotImplementedError()\n",
    "    \n",
    "def compute_statistic(bow_model, neural_model, test_data, test_corpus):\n",
    "    bow_prediction = text_clf.predict(test_corpus)    \n",
    "    data = DataLoader(test_data, batch_size=len(test_data), collate_fn=generate_batch)\n",
    "    assert len(data) == 1\n",
    "    text, offsets, cls = list(data)[0]\n",
    "    text, offsets, cls = text.to(device), offsets.to(device), cls.to(device)\n",
    "    with torch.no_grad():\n",
    "        output = neural_model(text, offsets)\n",
    "        neural_prediction = output.argmax(axis=1).numpy()\n",
    "    contingency_table = compute_contingency_table(bow_prediction=bow_prediction, neural_prediction=neural_prediction)\n",
    "    print('contingency_table: ')\n",
    "    print(contingency_table)\n",
    "    print(contingency_table.shape)\n",
    "    result = mcnemar(contingency_table)\n",
    "    alpha = 0.05\n",
    "    if result.pvalue > alpha:\n",
    "        print('Same proportions of errors (fail to reject H0)')\n",
    "    else:\n",
    "        print('Different proportions of errors (reject H0)')\n",
    "    \n",
    "compute_statistic(bow_model=text_clf, neural_model=dan_model, test_data=test_dataset, test_corpus=test_corpus)"
   ]
  },
  {
   "cell_type": "code",
   "execution_count": 67,
   "metadata": {
    "deletable": false,
    "editable": false,
    "nbgrader": {
     "cell_type": "code",
     "checksum": "9716232ee48e8e0ad519a7fc290a2ef6",
     "grade": true,
     "grade_id": "cell-99d0105b5119b741",
     "locked": true,
     "points": 1,
     "schema_version": 3,
     "solution": false
    }
   },
   "outputs": [],
   "source": [
    "from numpy.testing import assert_array_equal\n",
    "\n",
    "contingency_table = compute_contingency_table(np.array([0, 1]), np.array([1, 0]))\n",
    "truth =  [[0, 1], [1, 0]]\n",
    "assert_array_equal(contingency_table, truth)\n",
    "contingency_table = compute_contingency_table(np.array([0, 0, 0, 0, 1, 0, 1, 1, 1, 0, 1]), np.array([1, 1, 0, 1, 1, 0, 1, 1, 0, 0, 1]))\n",
    "truth = [[3, 3], [1, 4]]\n",
    "assert_array_equal(contingency_table, truth)"
   ]
  },
  {
   "cell_type": "code",
   "execution_count": 68,
   "metadata": {
    "deletable": false,
    "editable": false,
    "nbgrader": {
     "cell_type": "code",
     "checksum": "1576c56178c66f00391b8b8329c7ff8d",
     "grade": true,
     "grade_id": "cell-d41874e443e67ff7",
     "locked": true,
     "points": 1,
     "schema_version": 3,
     "solution": false
    }
   },
   "outputs": [],
   "source": [
    "# More hidden test cases are included in this cell\n"
   ]
  }
 ],
 "metadata": {
  "kernelspec": {
   "display_name": "Python 3",
   "language": "python",
   "name": "python3"
  },
  "language_info": {
   "codemirror_mode": {
    "name": "ipython",
    "version": 3
   },
   "file_extension": ".py",
   "mimetype": "text/x-python",
   "name": "python",
   "nbconvert_exporter": "python",
   "pygments_lexer": "ipython3",
   "version": "3.6.8"
  }
 },
 "nbformat": 4,
 "nbformat_minor": 4
}
